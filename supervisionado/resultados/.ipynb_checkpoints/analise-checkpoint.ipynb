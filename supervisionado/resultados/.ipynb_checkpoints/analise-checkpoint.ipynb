{
 "cells": [
  {
   "cell_type": "code",
   "execution_count": 1,
   "metadata": {},
   "outputs": [
    {
     "name": "stdout",
     "output_type": "stream",
     "text": [
      "Precisão média:\n",
      "knn         0.575913\n",
      "parzen      0.610236\n",
      "bayesian    0.506314\n",
      "logistic    0.396243\n",
      "ensemble    0.608285\n",
      "dtype: float64\n",
      "Precisão média com balanceamento e sem atributo multicolinear:\n",
      "knn         0.503143\n",
      "parzen      0.553900\n",
      "bayesian    0.488824\n",
      "logistic    0.424220\n",
      "ensemble    0.524949\n",
      "dtype: float64\n",
      "Precisão média somente com balanceamento:\n",
      "knn         0.531135\n",
      "parzen      0.569335\n",
      "bayesian    0.495079\n",
      "logistic    0.378438\n",
      "ensemble    0.565698\n",
      "dtype: float64\n",
      "Precisão média sem atributo multicolinear:\n",
      "knn         0.551072\n",
      "parzen      0.607743\n",
      "bayesian    0.508014\n",
      "logistic    0.440905\n",
      "ensemble    0.579026\n",
      "dtype: float64\n"
     ]
    }
   ],
   "source": [
    "import pandas as pd\n",
    "df = pd.read_csv ('precision.csv')\n",
    "print('Precisão média:')\n",
    "print(df.mean())\n",
    "df = pd.read_csv ('recall.csv')\n",
    "print('Cobertura média:')\n",
    "print(df.mean())\n",
    "df = pd.read_csv ('error_classification.csv')\n",
    "print('Erro de classificação médio somente com balanceamento:')\n",
    "print(df.mean())\n",
    "df = pd.read_csv ('precision_balanced_balanced_only.csv')\n",
    "print('Precisão média sem atributo multicolinear:')\n",
    "print(df.mean())"
   ]
  },
  {
   "cell_type": "code",
   "execution_count": null,
   "metadata": {},
   "outputs": [],
   "source": []
  }
 ],
 "metadata": {
  "interpreter": {
   "hash": "dca0ade3e726a953b501b15e8e990130d2b7799f14cfd9f4271676035ebe5511"
  },
  "kernelspec": {
   "display_name": "Python 3",
   "language": "python",
   "name": "python3"
  },
  "language_info": {
   "codemirror_mode": {
    "name": "ipython",
    "version": 3
   },
   "file_extension": ".py",
   "mimetype": "text/x-python",
   "name": "python",
   "nbconvert_exporter": "python",
   "pygments_lexer": "ipython3",
   "version": "3.8.8"
  }
 },
 "nbformat": 4,
 "nbformat_minor": 2
}
