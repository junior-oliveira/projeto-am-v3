{
 "cells": [
  {
   "cell_type": "code",
   "execution_count": 1,
   "source": [
    "import numpy as np\n",
    "import scipy.stats\n",
    "import pandas as pd\n",
    "from scipy.stats import friedmanchisquare\n",
    "from scikit_posthocs import posthoc_nemenyi_friedman\n",
    "\n"
   ],
   "outputs": [],
   "metadata": {}
  },
  {
   "cell_type": "code",
   "execution_count": 9,
   "source": [
    "def confidence_interval(data, confidence=0.95, decp = 3):\n",
    "    # xbar - média amostral\n",
    "    # decp - aprocimação decimal\n",
    "    if data.ndim == 1:\n",
    "        n = len(data)\n",
    "        xbar = round(data.mean(),decp)\n",
    "        \n",
    "        # Desvio padrão amostral\n",
    "        se = data.std() / n**(0.5)\n",
    "        h = se * scipy.stats.t.ppf((1 + confidence) / 2., n-1)\n",
    "        h = round(h,decp)\n",
    "        return  [xbar,(xbar-h, xbar+h)]\n",
    "    else:\n",
    "        ic = {}\n",
    "        n = data.shape[1]   \n",
    "        names = list(data.columns)\n",
    "        for j in range(n):\n",
    "            x = data[names[j]]\n",
    "            xbar = x.mean()\n",
    "            se = x.std() / n**(0.5)\n",
    "            h = se * scipy.stats.t.ppf((1 + confidence) / 2., n-1)\n",
    "            \n",
    "            ic[names[j]] = [round(xbar,3),( round(xbar-h,decp) , round(xbar+h,decp) )]\n",
    "        return ic"
   ],
   "outputs": [],
   "metadata": {}
  },
  {
   "cell_type": "code",
   "execution_count": 10,
   "source": [
    "er = pd.read_csv('resultados/error_classification.csv')\n",
    "prc = pd.read_csv('resultados/precision.csv')\n",
    "rcl = pd.read_csv('resultados/recall.csv')\n",
    "fms = pd.read_csv('resultados/fmeasure.csv')"
   ],
   "outputs": [],
   "metadata": {}
  },
  {
   "cell_type": "markdown",
   "source": [
    "## Estimação pontual e intervalar"
   ],
   "metadata": {}
  },
  {
   "cell_type": "code",
   "execution_count": 11,
   "source": [
    "print('Confidence Interval - Error rate')\n",
    "confidence_interval(er)"
   ],
   "outputs": [
    {
     "output_type": "stream",
     "name": "stdout",
     "text": [
      "Confidence Interval - Error rate\n"
     ]
    },
    {
     "output_type": "execute_result",
     "data": {
      "text/plain": [
       "{'knn': [0.428, (0.391, 0.465)],\n",
       " 'parzen': [0.415, (0.378, 0.452)],\n",
       " 'bayesian': [0.438, (0.405, 0.472)],\n",
       " 'logistic': [0.458, (0.432, 0.484)],\n",
       " 'ensemble': [0.418, (0.382, 0.453)]}"
      ]
     },
     "metadata": {},
     "execution_count": 11
    }
   ],
   "metadata": {
    "scrolled": true
   }
  },
  {
   "cell_type": "code",
   "execution_count": 12,
   "source": [
    "print('Confidence Interval - Recall')\n",
    "confidence_interval(rcl)\n"
   ],
   "outputs": [
    {
     "output_type": "stream",
     "name": "stdout",
     "text": [
      "Confidence Interval - Recall\n"
     ]
    },
    {
     "output_type": "execute_result",
     "data": {
      "text/plain": [
       "{'knn': [0.559, (0.507, 0.61)],\n",
       " 'parzen': [0.556, (0.508, 0.604)],\n",
       " 'bayesian': [0.544, (0.476, 0.611)],\n",
       " 'logistic': [0.311, (0.277, 0.346)],\n",
       " 'ensemble': [0.555, (0.506, 0.603)]}"
      ]
     },
     "metadata": {},
     "execution_count": 12
    }
   ],
   "metadata": {}
  },
  {
   "cell_type": "code",
   "execution_count": 13,
   "source": [
    "print('Confidence Interval - Fmeasure')\n",
    "confidence_interval(fms)\n"
   ],
   "outputs": [
    {
     "output_type": "stream",
     "name": "stdout",
     "text": [
      "Confidence Interval - Fmeasure\n"
     ]
    },
    {
     "output_type": "execute_result",
     "data": {
      "text/plain": [
       "{'knn': [0.554, (0.496, 0.612)],\n",
       " 'parzen': [0.566, (0.521, 0.611)],\n",
       " 'bayesian': [0.512, (0.447, 0.576)],\n",
       " 'logistic': [0.328, (0.29, 0.365)],\n",
       " 'ensemble': [0.56, (0.511, 0.609)]}"
      ]
     },
     "metadata": {},
     "execution_count": 13
    }
   ],
   "metadata": {}
  },
  {
   "cell_type": "markdown",
   "source": [
    "## Testes de hipóteses (Friedman e posthot)"
   ],
   "metadata": {}
  },
  {
   "cell_type": "code",
   "execution_count": 14,
   "source": [
    "# Error rate\n",
    "knn_er = er['knn'].to_numpy()\n",
    "parzen_er = er['parzen'].to_numpy()\n",
    "bayesian_er = er['bayesian'].to_numpy()\n",
    "logistic_er = er['logistic'].to_numpy()\n",
    "ensemble_er = er['ensemble'].to_numpy()\n",
    "\n",
    "print('Friedman test - error rate')\n",
    "friedmanchisquare(knn_er, parzen_er, bayesian_er,logistic_er,ensemble_er)"
   ],
   "outputs": [
    {
     "output_type": "stream",
     "name": "stdout",
     "text": [
      "Friedman test - error rate\n"
     ]
    },
    {
     "output_type": "execute_result",
     "data": {
      "text/plain": [
       "FriedmanchisquareResult(statistic=111.05188199389623, pvalue=4.3414821862931007e-23)"
      ]
     },
     "metadata": {},
     "execution_count": 14
    }
   ],
   "metadata": {}
  },
  {
   "cell_type": "code",
   "execution_count": 15,
   "source": [
    "posthoc_nemenyi_friedman(er)\n"
   ],
   "outputs": [
    {
     "output_type": "execute_result",
     "data": {
      "text/plain": [
       "               knn    parzen  bayesian  logistic  ensemble\n",
       "knn       1.000000  0.001577  0.579796     0.001  0.060732\n",
       "parzen    0.001577  1.000000  0.001000     0.001  0.777213\n",
       "bayesian  0.579796  0.001000  1.000000     0.001  0.001000\n",
       "logistic  0.001000  0.001000  0.001000     1.000  0.001000\n",
       "ensemble  0.060732  0.777213  0.001000     0.001  1.000000"
      ],
      "text/html": [
       "<div>\n",
       "<style scoped>\n",
       "    .dataframe tbody tr th:only-of-type {\n",
       "        vertical-align: middle;\n",
       "    }\n",
       "\n",
       "    .dataframe tbody tr th {\n",
       "        vertical-align: top;\n",
       "    }\n",
       "\n",
       "    .dataframe thead th {\n",
       "        text-align: right;\n",
       "    }\n",
       "</style>\n",
       "<table border=\"1\" class=\"dataframe\">\n",
       "  <thead>\n",
       "    <tr style=\"text-align: right;\">\n",
       "      <th></th>\n",
       "      <th>knn</th>\n",
       "      <th>parzen</th>\n",
       "      <th>bayesian</th>\n",
       "      <th>logistic</th>\n",
       "      <th>ensemble</th>\n",
       "    </tr>\n",
       "  </thead>\n",
       "  <tbody>\n",
       "    <tr>\n",
       "      <th>knn</th>\n",
       "      <td>1.000000</td>\n",
       "      <td>0.001577</td>\n",
       "      <td>0.579796</td>\n",
       "      <td>0.001</td>\n",
       "      <td>0.060732</td>\n",
       "    </tr>\n",
       "    <tr>\n",
       "      <th>parzen</th>\n",
       "      <td>0.001577</td>\n",
       "      <td>1.000000</td>\n",
       "      <td>0.001000</td>\n",
       "      <td>0.001</td>\n",
       "      <td>0.777213</td>\n",
       "    </tr>\n",
       "    <tr>\n",
       "      <th>bayesian</th>\n",
       "      <td>0.579796</td>\n",
       "      <td>0.001000</td>\n",
       "      <td>1.000000</td>\n",
       "      <td>0.001</td>\n",
       "      <td>0.001000</td>\n",
       "    </tr>\n",
       "    <tr>\n",
       "      <th>logistic</th>\n",
       "      <td>0.001000</td>\n",
       "      <td>0.001000</td>\n",
       "      <td>0.001000</td>\n",
       "      <td>1.000</td>\n",
       "      <td>0.001000</td>\n",
       "    </tr>\n",
       "    <tr>\n",
       "      <th>ensemble</th>\n",
       "      <td>0.060732</td>\n",
       "      <td>0.777213</td>\n",
       "      <td>0.001000</td>\n",
       "      <td>0.001</td>\n",
       "      <td>1.000000</td>\n",
       "    </tr>\n",
       "  </tbody>\n",
       "</table>\n",
       "</div>"
      ]
     },
     "metadata": {},
     "execution_count": 15
    }
   ],
   "metadata": {}
  },
  {
   "cell_type": "code",
   "execution_count": 16,
   "source": [
    "# precision\n",
    "knn_prc = prc['knn'].to_numpy()\n",
    "parzen_prc = prc['parzen'].to_numpy()\n",
    "bayesian_prc = prc['bayesian'].to_numpy()\n",
    "logistic_prc = prc['logistic'].to_numpy()\n",
    "ensemble_prc = prc['ensemble'].to_numpy()\n",
    " \n",
    "print('Friedman test - precision')\n",
    "friedmanchisquare(knn_prc, parzen_prc, bayesian_prc,logistic_prc,ensemble_prc)\n"
   ],
   "outputs": [
    {
     "output_type": "stream",
     "name": "stdout",
     "text": [
      "Friedman test - precision\n"
     ]
    },
    {
     "output_type": "execute_result",
     "data": {
      "text/plain": [
       "FriedmanchisquareResult(statistic=169.808, pvalue=1.1499387136442612e-35)"
      ]
     },
     "metadata": {},
     "execution_count": 16
    }
   ],
   "metadata": {}
  },
  {
   "cell_type": "code",
   "execution_count": 17,
   "source": [
    "posthoc_nemenyi_friedman(prc)\n"
   ],
   "outputs": [
    {
     "output_type": "execute_result",
     "data": {
      "text/plain": [
       "               knn  parzen  bayesian  logistic  ensemble\n",
       "knn       1.000000   0.001  0.013574  0.001000     0.001\n",
       "parzen    0.001000   1.000  0.001000  0.001000     0.900\n",
       "bayesian  0.013574   0.001  1.000000  0.011024     0.001\n",
       "logistic  0.001000   0.001  0.011024  1.000000     0.001\n",
       "ensemble  0.001000   0.900  0.001000  0.001000     1.000"
      ],
      "text/html": [
       "<div>\n",
       "<style scoped>\n",
       "    .dataframe tbody tr th:only-of-type {\n",
       "        vertical-align: middle;\n",
       "    }\n",
       "\n",
       "    .dataframe tbody tr th {\n",
       "        vertical-align: top;\n",
       "    }\n",
       "\n",
       "    .dataframe thead th {\n",
       "        text-align: right;\n",
       "    }\n",
       "</style>\n",
       "<table border=\"1\" class=\"dataframe\">\n",
       "  <thead>\n",
       "    <tr style=\"text-align: right;\">\n",
       "      <th></th>\n",
       "      <th>knn</th>\n",
       "      <th>parzen</th>\n",
       "      <th>bayesian</th>\n",
       "      <th>logistic</th>\n",
       "      <th>ensemble</th>\n",
       "    </tr>\n",
       "  </thead>\n",
       "  <tbody>\n",
       "    <tr>\n",
       "      <th>knn</th>\n",
       "      <td>1.000000</td>\n",
       "      <td>0.001</td>\n",
       "      <td>0.013574</td>\n",
       "      <td>0.001000</td>\n",
       "      <td>0.001</td>\n",
       "    </tr>\n",
       "    <tr>\n",
       "      <th>parzen</th>\n",
       "      <td>0.001000</td>\n",
       "      <td>1.000</td>\n",
       "      <td>0.001000</td>\n",
       "      <td>0.001000</td>\n",
       "      <td>0.900</td>\n",
       "    </tr>\n",
       "    <tr>\n",
       "      <th>bayesian</th>\n",
       "      <td>0.013574</td>\n",
       "      <td>0.001</td>\n",
       "      <td>1.000000</td>\n",
       "      <td>0.011024</td>\n",
       "      <td>0.001</td>\n",
       "    </tr>\n",
       "    <tr>\n",
       "      <th>logistic</th>\n",
       "      <td>0.001000</td>\n",
       "      <td>0.001</td>\n",
       "      <td>0.011024</td>\n",
       "      <td>1.000000</td>\n",
       "      <td>0.001</td>\n",
       "    </tr>\n",
       "    <tr>\n",
       "      <th>ensemble</th>\n",
       "      <td>0.001000</td>\n",
       "      <td>0.900</td>\n",
       "      <td>0.001000</td>\n",
       "      <td>0.001000</td>\n",
       "      <td>1.000</td>\n",
       "    </tr>\n",
       "  </tbody>\n",
       "</table>\n",
       "</div>"
      ]
     },
     "metadata": {},
     "execution_count": 17
    }
   ],
   "metadata": {}
  },
  {
   "cell_type": "code",
   "execution_count": 18,
   "source": [
    "# recall\n",
    "knn_rcl = rcl['knn'].to_numpy()\n",
    "parzen_rcl = rcl['parzen'].to_numpy()\n",
    "bayesian_rcl = rcl['bayesian'].to_numpy()\n",
    "logistic_rcl = rcl['logistic'].to_numpy()\n",
    "ensemble_rcl = rcl['ensemble'].to_numpy()\n",
    " \n",
    "print('Friedman test - recall ')\n",
    "friedmanchisquare(knn_rcl, parzen_rcl, bayesian_rcl,logistic_rcl,ensemble_rcl)\n"
   ],
   "outputs": [
    {
     "output_type": "stream",
     "name": "stdout",
     "text": [
      "Friedman test - recall \n"
     ]
    },
    {
     "output_type": "execute_result",
     "data": {
      "text/plain": [
       "FriedmanchisquareResult(statistic=102.68799999999999, pvalue=2.6330010266812288e-21)"
      ]
     },
     "metadata": {},
     "execution_count": 18
    }
   ],
   "metadata": {}
  },
  {
   "cell_type": "code",
   "execution_count": 20,
   "source": [
    "posthoc_nemenyi_friedman(rcl)\n",
    "\n"
   ],
   "outputs": [
    {
     "output_type": "execute_result",
     "data": {
      "text/plain": [
       "               knn  parzen  bayesian  logistic  ensemble\n",
       "knn       1.000000   0.900  0.543903     0.001  0.687481\n",
       "parzen    0.900000   1.000  0.900000     0.001  0.900000\n",
       "bayesian  0.543903   0.900  1.000000     0.001  0.900000\n",
       "logistic  0.001000   0.001  0.001000     1.000  0.001000\n",
       "ensemble  0.687481   0.900  0.900000     0.001  1.000000"
      ],
      "text/html": [
       "<div>\n",
       "<style scoped>\n",
       "    .dataframe tbody tr th:only-of-type {\n",
       "        vertical-align: middle;\n",
       "    }\n",
       "\n",
       "    .dataframe tbody tr th {\n",
       "        vertical-align: top;\n",
       "    }\n",
       "\n",
       "    .dataframe thead th {\n",
       "        text-align: right;\n",
       "    }\n",
       "</style>\n",
       "<table border=\"1\" class=\"dataframe\">\n",
       "  <thead>\n",
       "    <tr style=\"text-align: right;\">\n",
       "      <th></th>\n",
       "      <th>knn</th>\n",
       "      <th>parzen</th>\n",
       "      <th>bayesian</th>\n",
       "      <th>logistic</th>\n",
       "      <th>ensemble</th>\n",
       "    </tr>\n",
       "  </thead>\n",
       "  <tbody>\n",
       "    <tr>\n",
       "      <th>knn</th>\n",
       "      <td>1.000000</td>\n",
       "      <td>0.900</td>\n",
       "      <td>0.543903</td>\n",
       "      <td>0.001</td>\n",
       "      <td>0.687481</td>\n",
       "    </tr>\n",
       "    <tr>\n",
       "      <th>parzen</th>\n",
       "      <td>0.900000</td>\n",
       "      <td>1.000</td>\n",
       "      <td>0.900000</td>\n",
       "      <td>0.001</td>\n",
       "      <td>0.900000</td>\n",
       "    </tr>\n",
       "    <tr>\n",
       "      <th>bayesian</th>\n",
       "      <td>0.543903</td>\n",
       "      <td>0.900</td>\n",
       "      <td>1.000000</td>\n",
       "      <td>0.001</td>\n",
       "      <td>0.900000</td>\n",
       "    </tr>\n",
       "    <tr>\n",
       "      <th>logistic</th>\n",
       "      <td>0.001000</td>\n",
       "      <td>0.001</td>\n",
       "      <td>0.001000</td>\n",
       "      <td>1.000</td>\n",
       "      <td>0.001000</td>\n",
       "    </tr>\n",
       "    <tr>\n",
       "      <th>ensemble</th>\n",
       "      <td>0.687481</td>\n",
       "      <td>0.900</td>\n",
       "      <td>0.900000</td>\n",
       "      <td>0.001</td>\n",
       "      <td>1.000000</td>\n",
       "    </tr>\n",
       "  </tbody>\n",
       "</table>\n",
       "</div>"
      ]
     },
     "metadata": {},
     "execution_count": 20
    }
   ],
   "metadata": {}
  },
  {
   "cell_type": "code",
   "execution_count": 21,
   "source": [
    "# fmeasure\n",
    "knn_fms = fms['knn'].to_numpy()\n",
    "parzen_fms = fms['parzen'].to_numpy()\n",
    "bayesian_fms = fms['bayesian'].to_numpy()\n",
    "logistic_fms = fms['logistic'].to_numpy()\n",
    "ensemble_fms = fms['ensemble'].to_numpy()\n",
    " \n",
    "print('Friedman test - F-measure')\n",
    "friedmanchisquare(knn_fms, parzen_fms, bayesian_fms,logistic_fms,ensemble_fms)\n"
   ],
   "outputs": [
    {
     "output_type": "stream",
     "name": "stdout",
     "text": [
      "Friedman test - F-measure\n"
     ]
    },
    {
     "output_type": "execute_result",
     "data": {
      "text/plain": [
       "FriedmanchisquareResult(statistic=137.40800000000013, pvalue=1.0127205351373547e-28)"
      ]
     },
     "metadata": {},
     "execution_count": 21
    }
   ],
   "metadata": {}
  },
  {
   "cell_type": "code",
   "execution_count": 22,
   "source": [
    "posthoc_nemenyi_friedman(fms)\n"
   ],
   "outputs": [
    {
     "output_type": "execute_result",
     "data": {
      "text/plain": [
       "               knn    parzen  bayesian  logistic  ensemble\n",
       "knn       1.000000  0.469991     0.001     0.001  0.900000\n",
       "parzen    0.469991  1.000000     0.001     0.001  0.831053\n",
       "bayesian  0.001000  0.001000     1.000     0.001  0.001000\n",
       "logistic  0.001000  0.001000     0.001     1.000  0.001000\n",
       "ensemble  0.900000  0.831053     0.001     0.001  1.000000"
      ],
      "text/html": [
       "<div>\n",
       "<style scoped>\n",
       "    .dataframe tbody tr th:only-of-type {\n",
       "        vertical-align: middle;\n",
       "    }\n",
       "\n",
       "    .dataframe tbody tr th {\n",
       "        vertical-align: top;\n",
       "    }\n",
       "\n",
       "    .dataframe thead th {\n",
       "        text-align: right;\n",
       "    }\n",
       "</style>\n",
       "<table border=\"1\" class=\"dataframe\">\n",
       "  <thead>\n",
       "    <tr style=\"text-align: right;\">\n",
       "      <th></th>\n",
       "      <th>knn</th>\n",
       "      <th>parzen</th>\n",
       "      <th>bayesian</th>\n",
       "      <th>logistic</th>\n",
       "      <th>ensemble</th>\n",
       "    </tr>\n",
       "  </thead>\n",
       "  <tbody>\n",
       "    <tr>\n",
       "      <th>knn</th>\n",
       "      <td>1.000000</td>\n",
       "      <td>0.469991</td>\n",
       "      <td>0.001</td>\n",
       "      <td>0.001</td>\n",
       "      <td>0.900000</td>\n",
       "    </tr>\n",
       "    <tr>\n",
       "      <th>parzen</th>\n",
       "      <td>0.469991</td>\n",
       "      <td>1.000000</td>\n",
       "      <td>0.001</td>\n",
       "      <td>0.001</td>\n",
       "      <td>0.831053</td>\n",
       "    </tr>\n",
       "    <tr>\n",
       "      <th>bayesian</th>\n",
       "      <td>0.001000</td>\n",
       "      <td>0.001000</td>\n",
       "      <td>1.000</td>\n",
       "      <td>0.001</td>\n",
       "      <td>0.001000</td>\n",
       "    </tr>\n",
       "    <tr>\n",
       "      <th>logistic</th>\n",
       "      <td>0.001000</td>\n",
       "      <td>0.001000</td>\n",
       "      <td>0.001</td>\n",
       "      <td>1.000</td>\n",
       "      <td>0.001000</td>\n",
       "    </tr>\n",
       "    <tr>\n",
       "      <th>ensemble</th>\n",
       "      <td>0.900000</td>\n",
       "      <td>0.831053</td>\n",
       "      <td>0.001</td>\n",
       "      <td>0.001</td>\n",
       "      <td>1.000000</td>\n",
       "    </tr>\n",
       "  </tbody>\n",
       "</table>\n",
       "</div>"
      ]
     },
     "metadata": {},
     "execution_count": 22
    }
   ],
   "metadata": {}
  },
  {
   "cell_type": "code",
   "execution_count": 26,
   "source": [
    "best_hyper = pd.read_csv('resultados/best_hyper.csv')\n",
    "best_hyper"
   ],
   "outputs": [
    {
     "output_type": "execute_result",
     "data": {
      "text/plain": [
       "       k       h\n",
       "0    3.0  0.0565\n",
       "1    9.0  0.0565\n",
       "2   11.0  0.0565\n",
       "3    9.0  0.0565\n",
       "4   13.0  0.0565\n",
       "5   13.0  0.0565\n",
       "6    3.0  0.0565\n",
       "7    9.0  0.0565\n",
       "8    5.0  0.0565\n",
       "9    7.0  0.0565\n",
       "10   5.0  0.0565\n",
       "11   3.0  0.0565\n",
       "12   9.0  0.0565\n",
       "13  21.0  0.1120\n",
       "14   5.0  0.0565\n",
       "15   7.0  0.0565\n",
       "16   7.0  0.0565\n",
       "17   7.0  0.0565\n",
       "18   7.0  0.0565\n",
       "19   9.0  0.0565\n",
       "20   9.0  0.0565\n",
       "21   9.0  0.1120\n",
       "22  11.0  0.0565\n",
       "23  11.0  0.0565\n",
       "24   5.0  0.0565\n",
       "25   9.0  0.0565\n",
       "26   5.0  0.0565\n",
       "27  17.0  0.0565\n",
       "28   7.0  0.0565\n",
       "29   5.0  0.0565\n",
       "30   7.0  0.0565\n",
       "31  13.0  0.0565\n",
       "32   9.0  0.1120\n",
       "33  15.0  0.0565\n",
       "34   7.0  0.0565\n",
       "35   5.0  0.0565\n",
       "36   5.0  0.0565\n",
       "37  11.0  0.0565\n",
       "38  11.0  0.0565\n",
       "39  13.0  0.0565\n",
       "40   5.0  0.0565\n",
       "41   5.0  0.0565\n",
       "42   5.0  0.1120\n",
       "43   5.0  0.0565\n",
       "44   7.0  0.0565\n",
       "45   9.0  0.0565\n",
       "46   5.0  0.0565\n",
       "47  13.0  0.0565\n",
       "48   3.0  0.0565\n",
       "49   7.0  0.0565"
      ],
      "text/html": [
       "<div>\n",
       "<style scoped>\n",
       "    .dataframe tbody tr th:only-of-type {\n",
       "        vertical-align: middle;\n",
       "    }\n",
       "\n",
       "    .dataframe tbody tr th {\n",
       "        vertical-align: top;\n",
       "    }\n",
       "\n",
       "    .dataframe thead th {\n",
       "        text-align: right;\n",
       "    }\n",
       "</style>\n",
       "<table border=\"1\" class=\"dataframe\">\n",
       "  <thead>\n",
       "    <tr style=\"text-align: right;\">\n",
       "      <th></th>\n",
       "      <th>k</th>\n",
       "      <th>h</th>\n",
       "    </tr>\n",
       "  </thead>\n",
       "  <tbody>\n",
       "    <tr>\n",
       "      <th>0</th>\n",
       "      <td>3.0</td>\n",
       "      <td>0.0565</td>\n",
       "    </tr>\n",
       "    <tr>\n",
       "      <th>1</th>\n",
       "      <td>9.0</td>\n",
       "      <td>0.0565</td>\n",
       "    </tr>\n",
       "    <tr>\n",
       "      <th>2</th>\n",
       "      <td>11.0</td>\n",
       "      <td>0.0565</td>\n",
       "    </tr>\n",
       "    <tr>\n",
       "      <th>3</th>\n",
       "      <td>9.0</td>\n",
       "      <td>0.0565</td>\n",
       "    </tr>\n",
       "    <tr>\n",
       "      <th>4</th>\n",
       "      <td>13.0</td>\n",
       "      <td>0.0565</td>\n",
       "    </tr>\n",
       "    <tr>\n",
       "      <th>5</th>\n",
       "      <td>13.0</td>\n",
       "      <td>0.0565</td>\n",
       "    </tr>\n",
       "    <tr>\n",
       "      <th>6</th>\n",
       "      <td>3.0</td>\n",
       "      <td>0.0565</td>\n",
       "    </tr>\n",
       "    <tr>\n",
       "      <th>7</th>\n",
       "      <td>9.0</td>\n",
       "      <td>0.0565</td>\n",
       "    </tr>\n",
       "    <tr>\n",
       "      <th>8</th>\n",
       "      <td>5.0</td>\n",
       "      <td>0.0565</td>\n",
       "    </tr>\n",
       "    <tr>\n",
       "      <th>9</th>\n",
       "      <td>7.0</td>\n",
       "      <td>0.0565</td>\n",
       "    </tr>\n",
       "    <tr>\n",
       "      <th>10</th>\n",
       "      <td>5.0</td>\n",
       "      <td>0.0565</td>\n",
       "    </tr>\n",
       "    <tr>\n",
       "      <th>11</th>\n",
       "      <td>3.0</td>\n",
       "      <td>0.0565</td>\n",
       "    </tr>\n",
       "    <tr>\n",
       "      <th>12</th>\n",
       "      <td>9.0</td>\n",
       "      <td>0.0565</td>\n",
       "    </tr>\n",
       "    <tr>\n",
       "      <th>13</th>\n",
       "      <td>21.0</td>\n",
       "      <td>0.1120</td>\n",
       "    </tr>\n",
       "    <tr>\n",
       "      <th>14</th>\n",
       "      <td>5.0</td>\n",
       "      <td>0.0565</td>\n",
       "    </tr>\n",
       "    <tr>\n",
       "      <th>15</th>\n",
       "      <td>7.0</td>\n",
       "      <td>0.0565</td>\n",
       "    </tr>\n",
       "    <tr>\n",
       "      <th>16</th>\n",
       "      <td>7.0</td>\n",
       "      <td>0.0565</td>\n",
       "    </tr>\n",
       "    <tr>\n",
       "      <th>17</th>\n",
       "      <td>7.0</td>\n",
       "      <td>0.0565</td>\n",
       "    </tr>\n",
       "    <tr>\n",
       "      <th>18</th>\n",
       "      <td>7.0</td>\n",
       "      <td>0.0565</td>\n",
       "    </tr>\n",
       "    <tr>\n",
       "      <th>19</th>\n",
       "      <td>9.0</td>\n",
       "      <td>0.0565</td>\n",
       "    </tr>\n",
       "    <tr>\n",
       "      <th>20</th>\n",
       "      <td>9.0</td>\n",
       "      <td>0.0565</td>\n",
       "    </tr>\n",
       "    <tr>\n",
       "      <th>21</th>\n",
       "      <td>9.0</td>\n",
       "      <td>0.1120</td>\n",
       "    </tr>\n",
       "    <tr>\n",
       "      <th>22</th>\n",
       "      <td>11.0</td>\n",
       "      <td>0.0565</td>\n",
       "    </tr>\n",
       "    <tr>\n",
       "      <th>23</th>\n",
       "      <td>11.0</td>\n",
       "      <td>0.0565</td>\n",
       "    </tr>\n",
       "    <tr>\n",
       "      <th>24</th>\n",
       "      <td>5.0</td>\n",
       "      <td>0.0565</td>\n",
       "    </tr>\n",
       "    <tr>\n",
       "      <th>25</th>\n",
       "      <td>9.0</td>\n",
       "      <td>0.0565</td>\n",
       "    </tr>\n",
       "    <tr>\n",
       "      <th>26</th>\n",
       "      <td>5.0</td>\n",
       "      <td>0.0565</td>\n",
       "    </tr>\n",
       "    <tr>\n",
       "      <th>27</th>\n",
       "      <td>17.0</td>\n",
       "      <td>0.0565</td>\n",
       "    </tr>\n",
       "    <tr>\n",
       "      <th>28</th>\n",
       "      <td>7.0</td>\n",
       "      <td>0.0565</td>\n",
       "    </tr>\n",
       "    <tr>\n",
       "      <th>29</th>\n",
       "      <td>5.0</td>\n",
       "      <td>0.0565</td>\n",
       "    </tr>\n",
       "    <tr>\n",
       "      <th>30</th>\n",
       "      <td>7.0</td>\n",
       "      <td>0.0565</td>\n",
       "    </tr>\n",
       "    <tr>\n",
       "      <th>31</th>\n",
       "      <td>13.0</td>\n",
       "      <td>0.0565</td>\n",
       "    </tr>\n",
       "    <tr>\n",
       "      <th>32</th>\n",
       "      <td>9.0</td>\n",
       "      <td>0.1120</td>\n",
       "    </tr>\n",
       "    <tr>\n",
       "      <th>33</th>\n",
       "      <td>15.0</td>\n",
       "      <td>0.0565</td>\n",
       "    </tr>\n",
       "    <tr>\n",
       "      <th>34</th>\n",
       "      <td>7.0</td>\n",
       "      <td>0.0565</td>\n",
       "    </tr>\n",
       "    <tr>\n",
       "      <th>35</th>\n",
       "      <td>5.0</td>\n",
       "      <td>0.0565</td>\n",
       "    </tr>\n",
       "    <tr>\n",
       "      <th>36</th>\n",
       "      <td>5.0</td>\n",
       "      <td>0.0565</td>\n",
       "    </tr>\n",
       "    <tr>\n",
       "      <th>37</th>\n",
       "      <td>11.0</td>\n",
       "      <td>0.0565</td>\n",
       "    </tr>\n",
       "    <tr>\n",
       "      <th>38</th>\n",
       "      <td>11.0</td>\n",
       "      <td>0.0565</td>\n",
       "    </tr>\n",
       "    <tr>\n",
       "      <th>39</th>\n",
       "      <td>13.0</td>\n",
       "      <td>0.0565</td>\n",
       "    </tr>\n",
       "    <tr>\n",
       "      <th>40</th>\n",
       "      <td>5.0</td>\n",
       "      <td>0.0565</td>\n",
       "    </tr>\n",
       "    <tr>\n",
       "      <th>41</th>\n",
       "      <td>5.0</td>\n",
       "      <td>0.0565</td>\n",
       "    </tr>\n",
       "    <tr>\n",
       "      <th>42</th>\n",
       "      <td>5.0</td>\n",
       "      <td>0.1120</td>\n",
       "    </tr>\n",
       "    <tr>\n",
       "      <th>43</th>\n",
       "      <td>5.0</td>\n",
       "      <td>0.0565</td>\n",
       "    </tr>\n",
       "    <tr>\n",
       "      <th>44</th>\n",
       "      <td>7.0</td>\n",
       "      <td>0.0565</td>\n",
       "    </tr>\n",
       "    <tr>\n",
       "      <th>45</th>\n",
       "      <td>9.0</td>\n",
       "      <td>0.0565</td>\n",
       "    </tr>\n",
       "    <tr>\n",
       "      <th>46</th>\n",
       "      <td>5.0</td>\n",
       "      <td>0.0565</td>\n",
       "    </tr>\n",
       "    <tr>\n",
       "      <th>47</th>\n",
       "      <td>13.0</td>\n",
       "      <td>0.0565</td>\n",
       "    </tr>\n",
       "    <tr>\n",
       "      <th>48</th>\n",
       "      <td>3.0</td>\n",
       "      <td>0.0565</td>\n",
       "    </tr>\n",
       "    <tr>\n",
       "      <th>49</th>\n",
       "      <td>7.0</td>\n",
       "      <td>0.0565</td>\n",
       "    </tr>\n",
       "  </tbody>\n",
       "</table>\n",
       "</div>"
      ]
     },
     "metadata": {},
     "execution_count": 26
    }
   ],
   "metadata": {}
  }
 ],
 "metadata": {
  "interpreter": {
   "hash": "dca0ade3e726a953b501b15e8e990130d2b7799f14cfd9f4271676035ebe5511"
  },
  "kernelspec": {
   "name": "python3",
   "display_name": "Python 3.8.8 64-bit ('base': conda)"
  },
  "language_info": {
   "codemirror_mode": {
    "name": "ipython",
    "version": 3
   },
   "file_extension": ".py",
   "mimetype": "text/x-python",
   "name": "python",
   "nbconvert_exporter": "python",
   "pygments_lexer": "ipython3",
   "version": "3.8.8"
  }
 },
 "nbformat": 4,
 "nbformat_minor": 2
}