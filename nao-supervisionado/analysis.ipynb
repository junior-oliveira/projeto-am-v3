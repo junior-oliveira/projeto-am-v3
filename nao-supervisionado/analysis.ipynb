{
 "cells": [
  {
   "cell_type": "code",
   "execution_count": 2,
   "source": [
    "import numpy as np\n",
    "import pandas as pd\n",
    "from scipy.stats.mstats import gmean\n",
    "from sklearn.metrics import adjusted_rand_score, f1_score,confusion_matrix\n",
    "import seaborn as sns\n",
    "import matplotlib.pyplot as plt\n",
    "from scipy.stats import friedmanchisquare\n",
    "from scikit_posthocs import posthoc_nemenyi_friedman"
   ],
   "outputs": [],
   "metadata": {}
  },
  {
   "cell_type": "code",
   "execution_count": 1,
   "source": [
    "# Crisp and fuzzy metrics\n",
    "\n",
    "\n",
    "def modified_partition_coefficient(U):\n",
    "    U = U.to_numpy()\n",
    "    n,c = U.shape\n",
    "    PC = ((U**2).sum())/n\n",
    "    return 1 - (c/(c-1))*(1-PC)\n",
    "\n",
    "def partition_entropy_coefficient(U):\n",
    "    U = U.to_numpy()\n",
    "    n = U.shape[0]\n",
    "    M = -(U * np.log(U))\n",
    "    M = np.where(np.isnan(M),0,M)\n",
    "    return M.sum()/n\n",
    "    \n",
    "def fuzzy_to_crisp(U):\n",
    "    return U.to_numpy().argmax(axis = 1)\n",
    "\n",
    "def F_measure(x_true,x_pred):\n",
    "    x = confusion_matrix(x_true,x_pred)\n",
    "    c,K = x.shape\n",
    "    n = x.sum()\n",
    "    n_true = x.sum(axis = 1)\n",
    "    n_pred = x.sum(axis = 0)\n",
    "    F_score = np.zeros((c,K))\n",
    "    for i in range(c):\n",
    "        for j in range(K):\n",
    "            F_score[i,j] = (2*x[i,j])/(n_true[i] + n_pred[j])\n",
    "    return ( (F_score.max(axis = 1) * n_true).sum() )/n\n",
    "\n",
    "\n",
    "def OERC(y_true, y_pred):\n",
    "    D = confusion_matrix(y_true, y_pred)\n",
    "    n = D.sum()\n",
    "    S = D.max(axis = 0)\n",
    "    return (1 - (S.sum())/n)\n",
    "\n",
    "    \n",
    "\n"
   ],
   "outputs": [],
   "metadata": {}
  },
  {
   "cell_type": "code",
   "execution_count": 3,
   "source": [
    "x = pd.read_csv('yeast.csv')\n",
    "labels = np.unique(x['class'],return_inverse = True)[1]\n",
    "yeast = x.drop('class', axis = 1)\n",
    "labels"
   ],
   "outputs": [
    {
     "output_type": "execute_result",
     "data": {
      "text/plain": [
       "array([6, 6, 6, ..., 4, 7, 0])"
      ]
     },
     "metadata": {},
     "execution_count": 3
    }
   ],
   "metadata": {}
  },
  {
   "cell_type": "markdown",
   "source": [
    "## Analisando o banco de dados"
   ],
   "metadata": {}
  },
  {
   "cell_type": "code",
   "execution_count": null,
   "source": [
    "yeast.dtypes"
   ],
   "outputs": [],
   "metadata": {}
  },
  {
   "cell_type": "code",
   "execution_count": 4,
   "source": [
    "yeast.describe(percentiles=[0.5])"
   ],
   "outputs": [
    {
     "output_type": "execute_result",
     "data": {
      "text/plain": [
       "               mcg          gvh          alm          mit          erl  \\\n",
       "count  1484.000000  1484.000000  1484.000000  1484.000000  1484.000000   \n",
       "mean      0.500121     0.499933     0.500034     0.261186     0.504717   \n",
       "std       0.137299     0.123924     0.086670     0.137098     0.048351   \n",
       "min       0.110000     0.130000     0.210000     0.000000     0.500000   \n",
       "50%       0.490000     0.490000     0.510000     0.220000     0.500000   \n",
       "max       1.000000     1.000000     1.000000     1.000000     1.000000   \n",
       "\n",
       "               pox          vac          nuc  \n",
       "count  1484.000000  1484.000000  1484.000000  \n",
       "mean      0.007500     0.499885     0.276199  \n",
       "std       0.075683     0.057797     0.106491  \n",
       "min       0.000000     0.000000     0.000000  \n",
       "50%       0.000000     0.510000     0.220000  \n",
       "max       0.830000     0.730000     1.000000  "
      ],
      "text/html": [
       "<div>\n",
       "<style scoped>\n",
       "    .dataframe tbody tr th:only-of-type {\n",
       "        vertical-align: middle;\n",
       "    }\n",
       "\n",
       "    .dataframe tbody tr th {\n",
       "        vertical-align: top;\n",
       "    }\n",
       "\n",
       "    .dataframe thead th {\n",
       "        text-align: right;\n",
       "    }\n",
       "</style>\n",
       "<table border=\"1\" class=\"dataframe\">\n",
       "  <thead>\n",
       "    <tr style=\"text-align: right;\">\n",
       "      <th></th>\n",
       "      <th>mcg</th>\n",
       "      <th>gvh</th>\n",
       "      <th>alm</th>\n",
       "      <th>mit</th>\n",
       "      <th>erl</th>\n",
       "      <th>pox</th>\n",
       "      <th>vac</th>\n",
       "      <th>nuc</th>\n",
       "    </tr>\n",
       "  </thead>\n",
       "  <tbody>\n",
       "    <tr>\n",
       "      <th>count</th>\n",
       "      <td>1484.000000</td>\n",
       "      <td>1484.000000</td>\n",
       "      <td>1484.000000</td>\n",
       "      <td>1484.000000</td>\n",
       "      <td>1484.000000</td>\n",
       "      <td>1484.000000</td>\n",
       "      <td>1484.000000</td>\n",
       "      <td>1484.000000</td>\n",
       "    </tr>\n",
       "    <tr>\n",
       "      <th>mean</th>\n",
       "      <td>0.500121</td>\n",
       "      <td>0.499933</td>\n",
       "      <td>0.500034</td>\n",
       "      <td>0.261186</td>\n",
       "      <td>0.504717</td>\n",
       "      <td>0.007500</td>\n",
       "      <td>0.499885</td>\n",
       "      <td>0.276199</td>\n",
       "    </tr>\n",
       "    <tr>\n",
       "      <th>std</th>\n",
       "      <td>0.137299</td>\n",
       "      <td>0.123924</td>\n",
       "      <td>0.086670</td>\n",
       "      <td>0.137098</td>\n",
       "      <td>0.048351</td>\n",
       "      <td>0.075683</td>\n",
       "      <td>0.057797</td>\n",
       "      <td>0.106491</td>\n",
       "    </tr>\n",
       "    <tr>\n",
       "      <th>min</th>\n",
       "      <td>0.110000</td>\n",
       "      <td>0.130000</td>\n",
       "      <td>0.210000</td>\n",
       "      <td>0.000000</td>\n",
       "      <td>0.500000</td>\n",
       "      <td>0.000000</td>\n",
       "      <td>0.000000</td>\n",
       "      <td>0.000000</td>\n",
       "    </tr>\n",
       "    <tr>\n",
       "      <th>50%</th>\n",
       "      <td>0.490000</td>\n",
       "      <td>0.490000</td>\n",
       "      <td>0.510000</td>\n",
       "      <td>0.220000</td>\n",
       "      <td>0.500000</td>\n",
       "      <td>0.000000</td>\n",
       "      <td>0.510000</td>\n",
       "      <td>0.220000</td>\n",
       "    </tr>\n",
       "    <tr>\n",
       "      <th>max</th>\n",
       "      <td>1.000000</td>\n",
       "      <td>1.000000</td>\n",
       "      <td>1.000000</td>\n",
       "      <td>1.000000</td>\n",
       "      <td>1.000000</td>\n",
       "      <td>0.830000</td>\n",
       "      <td>0.730000</td>\n",
       "      <td>1.000000</td>\n",
       "    </tr>\n",
       "  </tbody>\n",
       "</table>\n",
       "</div>"
      ]
     },
     "metadata": {},
     "execution_count": 4
    }
   ],
   "metadata": {}
  },
  {
   "cell_type": "code",
   "execution_count": 75,
   "source": [
    "yeast.corr()"
   ],
   "outputs": [
    {
     "output_type": "execute_result",
     "data": {
      "text/plain": [
       "          mcg       gvh       alm       mit       erl       pox       vac  \\\n",
       "mcg  1.000000  0.581631 -0.163951  0.158175  0.064922  0.005597  0.075043   \n",
       "gvh  0.581631  1.000000 -0.271800  0.140314  0.060823  0.000392  0.088759   \n",
       "alm -0.163951 -0.271800  1.000000  0.059668 -0.008083  0.009378 -0.185805   \n",
       "mit  0.158175  0.140314  0.059668  1.000000 -0.005931 -0.009040 -0.103591   \n",
       "erl  0.064922  0.060823 -0.008083 -0.005931  1.000000 -0.009674  0.043627   \n",
       "pox  0.005597  0.000392  0.009378 -0.009040 -0.009674  1.000000  0.020900   \n",
       "vac  0.075043  0.088759 -0.185805 -0.103591  0.043627  0.020900  1.000000   \n",
       "nuc -0.124540 -0.102984 -0.022043 -0.054797  0.002829 -0.035659  0.089690   \n",
       "\n",
       "          nuc  \n",
       "mcg -0.124540  \n",
       "gvh -0.102984  \n",
       "alm -0.022043  \n",
       "mit -0.054797  \n",
       "erl  0.002829  \n",
       "pox -0.035659  \n",
       "vac  0.089690  \n",
       "nuc  1.000000  "
      ],
      "text/html": [
       "<div>\n",
       "<style scoped>\n",
       "    .dataframe tbody tr th:only-of-type {\n",
       "        vertical-align: middle;\n",
       "    }\n",
       "\n",
       "    .dataframe tbody tr th {\n",
       "        vertical-align: top;\n",
       "    }\n",
       "\n",
       "    .dataframe thead th {\n",
       "        text-align: right;\n",
       "    }\n",
       "</style>\n",
       "<table border=\"1\" class=\"dataframe\">\n",
       "  <thead>\n",
       "    <tr style=\"text-align: right;\">\n",
       "      <th></th>\n",
       "      <th>mcg</th>\n",
       "      <th>gvh</th>\n",
       "      <th>alm</th>\n",
       "      <th>mit</th>\n",
       "      <th>erl</th>\n",
       "      <th>pox</th>\n",
       "      <th>vac</th>\n",
       "      <th>nuc</th>\n",
       "    </tr>\n",
       "  </thead>\n",
       "  <tbody>\n",
       "    <tr>\n",
       "      <th>mcg</th>\n",
       "      <td>1.000000</td>\n",
       "      <td>0.581631</td>\n",
       "      <td>-0.163951</td>\n",
       "      <td>0.158175</td>\n",
       "      <td>0.064922</td>\n",
       "      <td>0.005597</td>\n",
       "      <td>0.075043</td>\n",
       "      <td>-0.124540</td>\n",
       "    </tr>\n",
       "    <tr>\n",
       "      <th>gvh</th>\n",
       "      <td>0.581631</td>\n",
       "      <td>1.000000</td>\n",
       "      <td>-0.271800</td>\n",
       "      <td>0.140314</td>\n",
       "      <td>0.060823</td>\n",
       "      <td>0.000392</td>\n",
       "      <td>0.088759</td>\n",
       "      <td>-0.102984</td>\n",
       "    </tr>\n",
       "    <tr>\n",
       "      <th>alm</th>\n",
       "      <td>-0.163951</td>\n",
       "      <td>-0.271800</td>\n",
       "      <td>1.000000</td>\n",
       "      <td>0.059668</td>\n",
       "      <td>-0.008083</td>\n",
       "      <td>0.009378</td>\n",
       "      <td>-0.185805</td>\n",
       "      <td>-0.022043</td>\n",
       "    </tr>\n",
       "    <tr>\n",
       "      <th>mit</th>\n",
       "      <td>0.158175</td>\n",
       "      <td>0.140314</td>\n",
       "      <td>0.059668</td>\n",
       "      <td>1.000000</td>\n",
       "      <td>-0.005931</td>\n",
       "      <td>-0.009040</td>\n",
       "      <td>-0.103591</td>\n",
       "      <td>-0.054797</td>\n",
       "    </tr>\n",
       "    <tr>\n",
       "      <th>erl</th>\n",
       "      <td>0.064922</td>\n",
       "      <td>0.060823</td>\n",
       "      <td>-0.008083</td>\n",
       "      <td>-0.005931</td>\n",
       "      <td>1.000000</td>\n",
       "      <td>-0.009674</td>\n",
       "      <td>0.043627</td>\n",
       "      <td>0.002829</td>\n",
       "    </tr>\n",
       "    <tr>\n",
       "      <th>pox</th>\n",
       "      <td>0.005597</td>\n",
       "      <td>0.000392</td>\n",
       "      <td>0.009378</td>\n",
       "      <td>-0.009040</td>\n",
       "      <td>-0.009674</td>\n",
       "      <td>1.000000</td>\n",
       "      <td>0.020900</td>\n",
       "      <td>-0.035659</td>\n",
       "    </tr>\n",
       "    <tr>\n",
       "      <th>vac</th>\n",
       "      <td>0.075043</td>\n",
       "      <td>0.088759</td>\n",
       "      <td>-0.185805</td>\n",
       "      <td>-0.103591</td>\n",
       "      <td>0.043627</td>\n",
       "      <td>0.020900</td>\n",
       "      <td>1.000000</td>\n",
       "      <td>0.089690</td>\n",
       "    </tr>\n",
       "    <tr>\n",
       "      <th>nuc</th>\n",
       "      <td>-0.124540</td>\n",
       "      <td>-0.102984</td>\n",
       "      <td>-0.022043</td>\n",
       "      <td>-0.054797</td>\n",
       "      <td>0.002829</td>\n",
       "      <td>-0.035659</td>\n",
       "      <td>0.089690</td>\n",
       "      <td>1.000000</td>\n",
       "    </tr>\n",
       "  </tbody>\n",
       "</table>\n",
       "</div>"
      ]
     },
     "metadata": {},
     "execution_count": 75
    }
   ],
   "metadata": {}
  },
  {
   "cell_type": "code",
   "execution_count": 76,
   "source": [
    "plt.figure(figsize=(8,4)) \n",
    "heatmap = sns.heatmap(yeast.corr(), vmin=-1, vmax=1, annot=True, cmap=\"BuPu\")\n",
    "heatmap.set_title('Mapa de correlação', fontdict={'fontsize':12}, pad=12)"
   ],
   "outputs": [
    {
     "output_type": "execute_result",
     "data": {
      "text/plain": [
       "Text(0.5, 1.0, 'Mapa de correlação')"
      ]
     },
     "metadata": {},
     "execution_count": 76
    },
    {
     "output_type": "display_data",
     "data": {
      "text/plain": [
       "<Figure size 576x288 with 2 Axes>"
      ],
      "image/png": "[encoded data removed]"
     },
     "metadata": {
      "needs_background": "light"
     }
    }
   ],
   "metadata": {}
  },
  {
   "cell_type": "code",
   "execution_count": 77,
   "source": [
    "labels = np.unique(labels,return_inverse=True)[1]\n",
    "pd.Series(labels).value_counts()"
   ],
   "outputs": [
    {
     "output_type": "execute_result",
     "data": {
      "text/plain": [
       "0    463\n",
       "7    429\n",
       "6    244\n",
       "5    163\n",
       "4     51\n",
       "3     44\n",
       "2     35\n",
       "9     30\n",
       "8     20\n",
       "1      5\n",
       "dtype: int64"
      ]
     },
     "metadata": {},
     "execution_count": 77
    }
   ],
   "metadata": {}
  },
  {
   "cell_type": "markdown",
   "source": [
    "## Resultados para m = 1.0001"
   ],
   "metadata": {}
  },
  {
   "cell_type": "code",
   "execution_count": 4,
   "source": [
    "rs = pd.read_csv('Resultados/application1/j/J(1.0001).csv', names = ['J'])\n",
    "idm = rs.idxmin()\n",
    "rs.iloc[idm] # Melhor resultado da função objetivo"
   ],
   "outputs": [
    {
     "output_type": "execute_result",
     "data": {
      "text/plain": [
       "          J\n",
       "3  0.771639"
      ],
      "text/html": [
       "<div>\n",
       "<style scoped>\n",
       "    .dataframe tbody tr th:only-of-type {\n",
       "        vertical-align: middle;\n",
       "    }\n",
       "\n",
       "    .dataframe tbody tr th {\n",
       "        vertical-align: top;\n",
       "    }\n",
       "\n",
       "    .dataframe thead th {\n",
       "        text-align: right;\n",
       "    }\n",
       "</style>\n",
       "<table border=\"1\" class=\"dataframe\">\n",
       "  <thead>\n",
       "    <tr style=\"text-align: right;\">\n",
       "      <th></th>\n",
       "      <th>J</th>\n",
       "    </tr>\n",
       "  </thead>\n",
       "  <tbody>\n",
       "    <tr>\n",
       "      <th>3</th>\n",
       "      <td>0.771639</td>\n",
       "    </tr>\n",
       "  </tbody>\n",
       "</table>\n",
       "</div>"
      ]
     },
     "metadata": {},
     "execution_count": 4
    }
   ],
   "metadata": {}
  },
  {
   "cell_type": "code",
   "execution_count": 5,
   "source": [
    "colnames = ['C1', 'C2', 'C3','C4','C5','C6','C7','C8','C9','C10']\n",
    "\n",
    "G = pd.read_csv('Resultados/application1/prototype/G3(1.0001).csv')\n",
    "U = pd.read_csv('Resultados/application1/degree/U3(1.0001).csv')\n",
    "W = pd.read_csv('Resultados/application1/weight/W3(1.0001).csv')\n",
    "W.index = colnames\n",
    "G.index = colnames"
   ],
   "outputs": [],
   "metadata": {}
  },
  {
   "cell_type": "code",
   "execution_count": 82,
   "source": [
    "round(G,3) # Protótipos m = 1.0001"
   ],
   "outputs": [
    {
     "output_type": "execute_result",
     "data": {
      "text/plain": [
       "       mcg    gvh    alm    mit    erl    pox    vac    nuc\n",
       "C1   0.487  0.471  0.404  0.216  0.500  0.000  0.510  0.271\n",
       "C2   0.591  0.577  0.493  0.253  1.000  0.000  0.526  0.279\n",
       "C3   0.500  0.500  0.501  0.260  0.506  0.008  0.500  0.277\n",
       "C4   0.508  0.503  0.539  0.321  0.500  0.000  0.478  0.244\n",
       "C5   0.486  0.489  0.525  0.276  0.500  0.000  0.464  0.463\n",
       "C6   0.519  0.663  0.437  0.297  0.500  0.000  0.506  0.252\n",
       "C7   0.422  0.432  0.545  0.197  0.500  0.000  0.500  0.293\n",
       "C8   0.499  0.499  0.500  0.261  0.500  0.008  0.500  0.276\n",
       "C9   0.526  0.530  0.515  0.518  0.500  0.000  0.503  0.246\n",
       "C10  0.681  0.643  0.471  0.229  0.500  0.000  0.511  0.240"
      ],
      "text/html": [
       "<div>\n",
       "<style scoped>\n",
       "    .dataframe tbody tr th:only-of-type {\n",
       "        vertical-align: middle;\n",
       "    }\n",
       "\n",
       "    .dataframe tbody tr th {\n",
       "        vertical-align: top;\n",
       "    }\n",
       "\n",
       "    .dataframe thead th {\n",
       "        text-align: right;\n",
       "    }\n",
       "</style>\n",
       "<table border=\"1\" class=\"dataframe\">\n",
       "  <thead>\n",
       "    <tr style=\"text-align: right;\">\n",
       "      <th></th>\n",
       "      <th>mcg</th>\n",
       "      <th>gvh</th>\n",
       "      <th>alm</th>\n",
       "      <th>mit</th>\n",
       "      <th>erl</th>\n",
       "      <th>pox</th>\n",
       "      <th>vac</th>\n",
       "      <th>nuc</th>\n",
       "    </tr>\n",
       "  </thead>\n",
       "  <tbody>\n",
       "    <tr>\n",
       "      <th>C1</th>\n",
       "      <td>0.487</td>\n",
       "      <td>0.471</td>\n",
       "      <td>0.404</td>\n",
       "      <td>0.216</td>\n",
       "      <td>0.500</td>\n",
       "      <td>0.000</td>\n",
       "      <td>0.510</td>\n",
       "      <td>0.271</td>\n",
       "    </tr>\n",
       "    <tr>\n",
       "      <th>C2</th>\n",
       "      <td>0.591</td>\n",
       "      <td>0.577</td>\n",
       "      <td>0.493</td>\n",
       "      <td>0.253</td>\n",
       "      <td>1.000</td>\n",
       "      <td>0.000</td>\n",
       "      <td>0.526</td>\n",
       "      <td>0.279</td>\n",
       "    </tr>\n",
       "    <tr>\n",
       "      <th>C3</th>\n",
       "      <td>0.500</td>\n",
       "      <td>0.500</td>\n",
       "      <td>0.501</td>\n",
       "      <td>0.260</td>\n",
       "      <td>0.506</td>\n",
       "      <td>0.008</td>\n",
       "      <td>0.500</td>\n",
       "      <td>0.277</td>\n",
       "    </tr>\n",
       "    <tr>\n",
       "      <th>C4</th>\n",
       "      <td>0.508</td>\n",
       "      <td>0.503</td>\n",
       "      <td>0.539</td>\n",
       "      <td>0.321</td>\n",
       "      <td>0.500</td>\n",
       "      <td>0.000</td>\n",
       "      <td>0.478</td>\n",
       "      <td>0.244</td>\n",
       "    </tr>\n",
       "    <tr>\n",
       "      <th>C5</th>\n",
       "      <td>0.486</td>\n",
       "      <td>0.489</td>\n",
       "      <td>0.525</td>\n",
       "      <td>0.276</td>\n",
       "      <td>0.500</td>\n",
       "      <td>0.000</td>\n",
       "      <td>0.464</td>\n",
       "      <td>0.463</td>\n",
       "    </tr>\n",
       "    <tr>\n",
       "      <th>C6</th>\n",
       "      <td>0.519</td>\n",
       "      <td>0.663</td>\n",
       "      <td>0.437</td>\n",
       "      <td>0.297</td>\n",
       "      <td>0.500</td>\n",
       "      <td>0.000</td>\n",
       "      <td>0.506</td>\n",
       "      <td>0.252</td>\n",
       "    </tr>\n",
       "    <tr>\n",
       "      <th>C7</th>\n",
       "      <td>0.422</td>\n",
       "      <td>0.432</td>\n",
       "      <td>0.545</td>\n",
       "      <td>0.197</td>\n",
       "      <td>0.500</td>\n",
       "      <td>0.000</td>\n",
       "      <td>0.500</td>\n",
       "      <td>0.293</td>\n",
       "    </tr>\n",
       "    <tr>\n",
       "      <th>C8</th>\n",
       "      <td>0.499</td>\n",
       "      <td>0.499</td>\n",
       "      <td>0.500</td>\n",
       "      <td>0.261</td>\n",
       "      <td>0.500</td>\n",
       "      <td>0.008</td>\n",
       "      <td>0.500</td>\n",
       "      <td>0.276</td>\n",
       "    </tr>\n",
       "    <tr>\n",
       "      <th>C9</th>\n",
       "      <td>0.526</td>\n",
       "      <td>0.530</td>\n",
       "      <td>0.515</td>\n",
       "      <td>0.518</td>\n",
       "      <td>0.500</td>\n",
       "      <td>0.000</td>\n",
       "      <td>0.503</td>\n",
       "      <td>0.246</td>\n",
       "    </tr>\n",
       "    <tr>\n",
       "      <th>C10</th>\n",
       "      <td>0.681</td>\n",
       "      <td>0.643</td>\n",
       "      <td>0.471</td>\n",
       "      <td>0.229</td>\n",
       "      <td>0.500</td>\n",
       "      <td>0.000</td>\n",
       "      <td>0.511</td>\n",
       "      <td>0.240</td>\n",
       "    </tr>\n",
       "  </tbody>\n",
       "</table>\n",
       "</div>"
      ]
     },
     "metadata": {},
     "execution_count": 82
    }
   ],
   "metadata": {}
  },
  {
   "cell_type": "code",
   "execution_count": 85,
   "source": [
    "modified_partition_coefficient(U)"
   ],
   "outputs": [
    {
     "output_type": "execute_result",
     "data": {
      "text/plain": [
       "1.0"
      ]
     },
     "metadata": {},
     "execution_count": 85
    }
   ],
   "metadata": {}
  },
  {
   "cell_type": "code",
   "execution_count": 86,
   "source": [
    "partition_entropy_coefficient(U)"
   ],
   "outputs": [
    {
     "output_type": "stream",
     "name": "stderr",
     "text": [
      "<ipython-input-2-e818624cc3f0>:13: RuntimeWarning: divide by zero encountered in log\n",
      "  M = -(U * np.log(U))\n",
      "<ipython-input-2-e818624cc3f0>:13: RuntimeWarning: invalid value encountered in multiply\n",
      "  M = -(U * np.log(U))\n"
     ]
    },
    {
     "output_type": "execute_result",
     "data": {
      "text/plain": [
       "0.0"
      ]
     },
     "metadata": {},
     "execution_count": 86
    }
   ],
   "metadata": {}
  },
  {
   "cell_type": "code",
   "execution_count": 6,
   "source": [
    "crisp = fuzzy_to_crisp(U)\n",
    "np.unique(crisp,return_counts=True)"
   ],
   "outputs": [
    {
     "output_type": "execute_result",
     "data": {
      "text/plain": [
       "(array([1, 7]), array([  14, 1470]))"
      ]
     },
     "metadata": {},
     "execution_count": 6
    }
   ],
   "metadata": {}
  },
  {
   "cell_type": "code",
   "execution_count": 94,
   "source": [
    "adjusted_rand_score(labels, crisp)"
   ],
   "outputs": [
    {
     "output_type": "execute_result",
     "data": {
      "text/plain": [
       "0.002979506538380728"
      ]
     },
     "metadata": {},
     "execution_count": 94
    }
   ],
   "metadata": {}
  },
  {
   "cell_type": "code",
   "execution_count": 89,
   "source": [
    "F_measure(x_true = labels, x_pred = crisp)"
   ],
   "outputs": [
    {
     "output_type": "execute_result",
     "data": {
      "text/plain": [
       "0.35449774877105383"
      ]
     },
     "metadata": {},
     "execution_count": 89
    }
   ],
   "metadata": {}
  },
  {
   "cell_type": "code",
   "execution_count": 7,
   "source": [
    "OERC(labels,crisp)"
   ],
   "outputs": [
    {
     "output_type": "execute_result",
     "data": {
      "text/plain": [
       "0.6873315363881402"
      ]
     },
     "metadata": {},
     "execution_count": 7
    }
   ],
   "metadata": {}
  },
  {
   "cell_type": "code",
   "execution_count": 92,
   "source": [
    "CM = confusion_matrix(labels, crisp, labels=[0,1,2,3,4,5,6,7,8,9])\n",
    "pd.DataFrame(CM)\n",
    "CM.sum(axis = 1)"
   ],
   "outputs": [
    {
     "output_type": "execute_result",
     "data": {
      "text/plain": [
       "array([463,   5,  35,  44,  51, 163, 244, 429,  20,  30])"
      ]
     },
     "metadata": {},
     "execution_count": 92
    }
   ],
   "metadata": {}
  },
  {
   "cell_type": "markdown",
   "source": [
    " ## Resultados para m = 1.1"
   ],
   "metadata": {}
  },
  {
   "cell_type": "code",
   "execution_count": 8,
   "source": [
    "rs1 = pd.read_csv('Resultados/application1/j/J(1.1).csv', names = ['J'])\n",
    "idm = rs1.idxmin()\n",
    "rs1.iloc[idm] # Melhor resultado da função objetivo"
   ],
   "outputs": [
    {
     "output_type": "execute_result",
     "data": {
      "text/plain": [
       "               J\n",
       "45  2.647620e-11"
      ],
      "text/html": [
       "<div>\n",
       "<style scoped>\n",
       "    .dataframe tbody tr th:only-of-type {\n",
       "        vertical-align: middle;\n",
       "    }\n",
       "\n",
       "    .dataframe tbody tr th {\n",
       "        vertical-align: top;\n",
       "    }\n",
       "\n",
       "    .dataframe thead th {\n",
       "        text-align: right;\n",
       "    }\n",
       "</style>\n",
       "<table border=\"1\" class=\"dataframe\">\n",
       "  <thead>\n",
       "    <tr style=\"text-align: right;\">\n",
       "      <th></th>\n",
       "      <th>J</th>\n",
       "    </tr>\n",
       "  </thead>\n",
       "  <tbody>\n",
       "    <tr>\n",
       "      <th>45</th>\n",
       "      <td>2.647620e-11</td>\n",
       "    </tr>\n",
       "  </tbody>\n",
       "</table>\n",
       "</div>"
      ]
     },
     "metadata": {},
     "execution_count": 8
    }
   ],
   "metadata": {}
  },
  {
   "cell_type": "code",
   "execution_count": 9,
   "source": [
    "colnames = ['C1', 'C2', 'C3','C4','C5','C6','C7','C8','C9','C10']\n",
    "\n",
    "G1 = pd.read_csv('Resultados/application1/prototype/G45(1.1).csv')\n",
    "U1 = pd.read_csv('Resultados/application1/degree/U45(1.1).csv')\n",
    "W1 = pd.read_csv('Resultados/application1/weight/W45(1.1).csv')\n",
    "W1.index = colnames\n",
    "G1.index = colnames"
   ],
   "outputs": [],
   "metadata": {}
  },
  {
   "cell_type": "code",
   "execution_count": 50,
   "source": [
    "#prototypes\n",
    "G1\n",
    "np.round(G1,3)"
   ],
   "outputs": [
    {
     "output_type": "execute_result",
     "data": {
      "text/plain": [
       "       mcg    gvh    alm    mit  erl    pox    vac    nuc\n",
       "C1   0.591  0.577  0.493  0.253  1.0  0.000  0.526  0.279\n",
       "C2   0.456  0.425  0.499  0.439  0.5  0.517  0.503  0.261\n",
       "C3   0.630  0.570  0.500  0.480  0.5  0.000  0.510  0.220\n",
       "C4   0.499  0.499  0.500  0.261  0.5  0.000  0.500  0.277\n",
       "C5   0.506  0.529  0.478  0.501  0.5  0.000  0.510  0.220\n",
       "C6   0.502  0.497  0.511  0.253  0.5  0.742  0.509  0.237\n",
       "C7   0.451  0.404  0.530  0.205  0.5  0.000  0.487  0.255\n",
       "C8   0.370  0.530  0.600  0.190  0.5  0.500  0.420  0.220\n",
       "C9   0.510  0.480  0.510  0.260  0.5  0.000  0.510  0.270\n",
       "C10  0.602  0.469  0.443  0.266  1.0  0.000  0.522  0.311"
      ],
      "text/html": [
       "<div>\n",
       "<style scoped>\n",
       "    .dataframe tbody tr th:only-of-type {\n",
       "        vertical-align: middle;\n",
       "    }\n",
       "\n",
       "    .dataframe tbody tr th {\n",
       "        vertical-align: top;\n",
       "    }\n",
       "\n",
       "    .dataframe thead th {\n",
       "        text-align: right;\n",
       "    }\n",
       "</style>\n",
       "<table border=\"1\" class=\"dataframe\">\n",
       "  <thead>\n",
       "    <tr style=\"text-align: right;\">\n",
       "      <th></th>\n",
       "      <th>mcg</th>\n",
       "      <th>gvh</th>\n",
       "      <th>alm</th>\n",
       "      <th>mit</th>\n",
       "      <th>erl</th>\n",
       "      <th>pox</th>\n",
       "      <th>vac</th>\n",
       "      <th>nuc</th>\n",
       "    </tr>\n",
       "  </thead>\n",
       "  <tbody>\n",
       "    <tr>\n",
       "      <th>C1</th>\n",
       "      <td>0.591</td>\n",
       "      <td>0.577</td>\n",
       "      <td>0.493</td>\n",
       "      <td>0.253</td>\n",
       "      <td>1.0</td>\n",
       "      <td>0.000</td>\n",
       "      <td>0.526</td>\n",
       "      <td>0.279</td>\n",
       "    </tr>\n",
       "    <tr>\n",
       "      <th>C2</th>\n",
       "      <td>0.456</td>\n",
       "      <td>0.425</td>\n",
       "      <td>0.499</td>\n",
       "      <td>0.439</td>\n",
       "      <td>0.5</td>\n",
       "      <td>0.517</td>\n",
       "      <td>0.503</td>\n",
       "      <td>0.261</td>\n",
       "    </tr>\n",
       "    <tr>\n",
       "      <th>C3</th>\n",
       "      <td>0.630</td>\n",
       "      <td>0.570</td>\n",
       "      <td>0.500</td>\n",
       "      <td>0.480</td>\n",
       "      <td>0.5</td>\n",
       "      <td>0.000</td>\n",
       "      <td>0.510</td>\n",
       "      <td>0.220</td>\n",
       "    </tr>\n",
       "    <tr>\n",
       "      <th>C4</th>\n",
       "      <td>0.499</td>\n",
       "      <td>0.499</td>\n",
       "      <td>0.500</td>\n",
       "      <td>0.261</td>\n",
       "      <td>0.5</td>\n",
       "      <td>0.000</td>\n",
       "      <td>0.500</td>\n",
       "      <td>0.277</td>\n",
       "    </tr>\n",
       "    <tr>\n",
       "      <th>C5</th>\n",
       "      <td>0.506</td>\n",
       "      <td>0.529</td>\n",
       "      <td>0.478</td>\n",
       "      <td>0.501</td>\n",
       "      <td>0.5</td>\n",
       "      <td>0.000</td>\n",
       "      <td>0.510</td>\n",
       "      <td>0.220</td>\n",
       "    </tr>\n",
       "    <tr>\n",
       "      <th>C6</th>\n",
       "      <td>0.502</td>\n",
       "      <td>0.497</td>\n",
       "      <td>0.511</td>\n",
       "      <td>0.253</td>\n",
       "      <td>0.5</td>\n",
       "      <td>0.742</td>\n",
       "      <td>0.509</td>\n",
       "      <td>0.237</td>\n",
       "    </tr>\n",
       "    <tr>\n",
       "      <th>C7</th>\n",
       "      <td>0.451</td>\n",
       "      <td>0.404</td>\n",
       "      <td>0.530</td>\n",
       "      <td>0.205</td>\n",
       "      <td>0.5</td>\n",
       "      <td>0.000</td>\n",
       "      <td>0.487</td>\n",
       "      <td>0.255</td>\n",
       "    </tr>\n",
       "    <tr>\n",
       "      <th>C8</th>\n",
       "      <td>0.370</td>\n",
       "      <td>0.530</td>\n",
       "      <td>0.600</td>\n",
       "      <td>0.190</td>\n",
       "      <td>0.5</td>\n",
       "      <td>0.500</td>\n",
       "      <td>0.420</td>\n",
       "      <td>0.220</td>\n",
       "    </tr>\n",
       "    <tr>\n",
       "      <th>C9</th>\n",
       "      <td>0.510</td>\n",
       "      <td>0.480</td>\n",
       "      <td>0.510</td>\n",
       "      <td>0.260</td>\n",
       "      <td>0.5</td>\n",
       "      <td>0.000</td>\n",
       "      <td>0.510</td>\n",
       "      <td>0.270</td>\n",
       "    </tr>\n",
       "    <tr>\n",
       "      <th>C10</th>\n",
       "      <td>0.602</td>\n",
       "      <td>0.469</td>\n",
       "      <td>0.443</td>\n",
       "      <td>0.266</td>\n",
       "      <td>1.0</td>\n",
       "      <td>0.000</td>\n",
       "      <td>0.522</td>\n",
       "      <td>0.311</td>\n",
       "    </tr>\n",
       "  </tbody>\n",
       "</table>\n",
       "</div>"
      ]
     },
     "metadata": {},
     "execution_count": 50
    }
   ],
   "metadata": {}
  },
  {
   "cell_type": "code",
   "execution_count": 51,
   "source": [
    "modified_partition_coefficient(U1)"
   ],
   "outputs": [
    {
     "output_type": "execute_result",
     "data": {
      "text/plain": [
       "1.0"
      ]
     },
     "metadata": {},
     "execution_count": 51
    }
   ],
   "metadata": {}
  },
  {
   "cell_type": "code",
   "execution_count": 52,
   "source": [
    "partition_entropy_coefficient(U1)"
   ],
   "outputs": [
    {
     "output_type": "stream",
     "name": "stderr",
     "text": [
      "<ipython-input-2-e818624cc3f0>:13: RuntimeWarning: divide by zero encountered in log\n",
      "  M = -(U * np.log(U))\n",
      "<ipython-input-2-e818624cc3f0>:13: RuntimeWarning: invalid value encountered in multiply\n",
      "  M = -(U * np.log(U))\n"
     ]
    },
    {
     "output_type": "execute_result",
     "data": {
      "text/plain": [
       "1.9708792695140537e-23"
      ]
     },
     "metadata": {},
     "execution_count": 52
    }
   ],
   "metadata": {}
  },
  {
   "cell_type": "code",
   "execution_count": 10,
   "source": [
    "crisp1 = fuzzy_to_crisp(U1)\n",
    "np.unique(crisp1,return_counts=True)"
   ],
   "outputs": [
    {
     "output_type": "execute_result",
     "data": {
      "text/plain": [
       "(array([0, 2, 3, 5, 7]), array([  14,    1, 1454,   14,    1]))"
      ]
     },
     "metadata": {},
     "execution_count": 10
    }
   ],
   "metadata": {}
  },
  {
   "cell_type": "code",
   "execution_count": 54,
   "source": [
    "adjusted_rand_score(labels, crisp1)"
   ],
   "outputs": [
    {
     "output_type": "execute_result",
     "data": {
      "text/plain": [
       "0.011828318061781177"
      ]
     },
     "metadata": {},
     "execution_count": 54
    }
   ],
   "metadata": {}
  },
  {
   "cell_type": "code",
   "execution_count": 21,
   "source": [
    "F_measure(x_true = labels, x_pred = crisp1)"
   ],
   "outputs": [
    {
     "output_type": "execute_result",
     "data": {
      "text/plain": [
       "0.36402191184369137"
      ]
     },
     "metadata": {},
     "execution_count": 21
    }
   ],
   "metadata": {}
  },
  {
   "cell_type": "code",
   "execution_count": 11,
   "source": [
    "OERC(labels,crisp1)"
   ],
   "outputs": [
    {
     "output_type": "execute_result",
     "data": {
      "text/plain": [
       "0.6799191374663073"
      ]
     },
     "metadata": {},
     "execution_count": 11
    }
   ],
   "metadata": {}
  },
  {
   "cell_type": "code",
   "execution_count": 25,
   "source": [
    "CM = confusion_matrix(labels, crisp1, labels=[0,1,2,3,4,5,6,7,8,9])\n",
    "pd.DataFrame(CM)\n",
    "CM.sum(axis = 1)"
   ],
   "outputs": [
    {
     "output_type": "execute_result",
     "data": {
      "text/plain": [
       "array([463,   5,  35,  44,  51, 163, 244, 429,  20,  30])"
      ]
     },
     "metadata": {},
     "execution_count": 25
    }
   ],
   "metadata": {}
  },
  {
   "cell_type": "markdown",
   "source": [
    "### Resultados para m = 1.6"
   ],
   "metadata": {}
  },
  {
   "cell_type": "code",
   "execution_count": 12,
   "source": [
    "rs2 = pd.read_csv('Resultados/application1/j/J(1.6).csv', names = ['J'])\n",
    "idm2 = rs2.idxmin()\n",
    "rs2.iloc[idm2] # Melhor resultado da função objetivo"
   ],
   "outputs": [
    {
     "output_type": "execute_result",
     "data": {
      "text/plain": [
       "               J\n",
       "45  2.638794e-13"
      ],
      "text/html": [
       "<div>\n",
       "<style scoped>\n",
       "    .dataframe tbody tr th:only-of-type {\n",
       "        vertical-align: middle;\n",
       "    }\n",
       "\n",
       "    .dataframe tbody tr th {\n",
       "        vertical-align: top;\n",
       "    }\n",
       "\n",
       "    .dataframe thead th {\n",
       "        text-align: right;\n",
       "    }\n",
       "</style>\n",
       "<table border=\"1\" class=\"dataframe\">\n",
       "  <thead>\n",
       "    <tr style=\"text-align: right;\">\n",
       "      <th></th>\n",
       "      <th>J</th>\n",
       "    </tr>\n",
       "  </thead>\n",
       "  <tbody>\n",
       "    <tr>\n",
       "      <th>45</th>\n",
       "      <td>2.638794e-13</td>\n",
       "    </tr>\n",
       "  </tbody>\n",
       "</table>\n",
       "</div>"
      ]
     },
     "metadata": {},
     "execution_count": 12
    }
   ],
   "metadata": {}
  },
  {
   "cell_type": "code",
   "execution_count": 13,
   "source": [
    "colnames = ['C1', 'C2', 'C3','C4','C5','C6','C7','C8','C9','C10']\n",
    "\n",
    "G2 = pd.read_csv('Resultados/application1/prototype/G45(1.6).csv')\n",
    "U2 = pd.read_csv('Resultados/application1/degree/U45(1.6).csv')\n",
    "W2 = pd.read_csv('Resultados/application1/weight/W45(1.6).csv')\n",
    "W2.index = colnames\n",
    "G2.index = colnames"
   ],
   "outputs": [],
   "metadata": {}
  },
  {
   "cell_type": "code",
   "execution_count": 58,
   "source": [
    "G2\n",
    "np.round(G2,3)\n"
   ],
   "outputs": [
    {
     "output_type": "execute_result",
     "data": {
      "text/plain": [
       "       mcg    gvh    alm    mit  erl    pox    vac    nuc\n",
       "C1   0.591  0.577  0.493  0.253  1.0  0.000  0.526  0.279\n",
       "C2   0.511  0.494  0.505  0.258  0.5  0.759  0.515  0.239\n",
       "C3   0.496  0.445  0.531  0.252  0.5  0.503  0.498  0.223\n",
       "C4   0.330  0.211  0.530  0.150  1.0  0.000  0.520  0.499\n",
       "C5   0.594  0.585  0.478  0.460  0.5  0.000  0.516  0.223\n",
       "C6   0.505  0.410  0.554  0.185  0.5  0.514  0.492  0.221\n",
       "C7   0.499  0.499  0.500  0.261  0.5  0.000  0.500  0.277\n",
       "C8   0.370  0.530  0.600  0.190  0.5  0.500  0.420  0.220\n",
       "C9   0.557  0.548  0.487  0.283  0.5  0.000  0.504  0.246\n",
       "C10  0.400  0.417  0.493  0.145  1.0  0.000  0.538  0.335"
      ],
      "text/html": [
       "<div>\n",
       "<style scoped>\n",
       "    .dataframe tbody tr th:only-of-type {\n",
       "        vertical-align: middle;\n",
       "    }\n",
       "\n",
       "    .dataframe tbody tr th {\n",
       "        vertical-align: top;\n",
       "    }\n",
       "\n",
       "    .dataframe thead th {\n",
       "        text-align: right;\n",
       "    }\n",
       "</style>\n",
       "<table border=\"1\" class=\"dataframe\">\n",
       "  <thead>\n",
       "    <tr style=\"text-align: right;\">\n",
       "      <th></th>\n",
       "      <th>mcg</th>\n",
       "      <th>gvh</th>\n",
       "      <th>alm</th>\n",
       "      <th>mit</th>\n",
       "      <th>erl</th>\n",
       "      <th>pox</th>\n",
       "      <th>vac</th>\n",
       "      <th>nuc</th>\n",
       "    </tr>\n",
       "  </thead>\n",
       "  <tbody>\n",
       "    <tr>\n",
       "      <th>C1</th>\n",
       "      <td>0.591</td>\n",
       "      <td>0.577</td>\n",
       "      <td>0.493</td>\n",
       "      <td>0.253</td>\n",
       "      <td>1.0</td>\n",
       "      <td>0.000</td>\n",
       "      <td>0.526</td>\n",
       "      <td>0.279</td>\n",
       "    </tr>\n",
       "    <tr>\n",
       "      <th>C2</th>\n",
       "      <td>0.511</td>\n",
       "      <td>0.494</td>\n",
       "      <td>0.505</td>\n",
       "      <td>0.258</td>\n",
       "      <td>0.5</td>\n",
       "      <td>0.759</td>\n",
       "      <td>0.515</td>\n",
       "      <td>0.239</td>\n",
       "    </tr>\n",
       "    <tr>\n",
       "      <th>C3</th>\n",
       "      <td>0.496</td>\n",
       "      <td>0.445</td>\n",
       "      <td>0.531</td>\n",
       "      <td>0.252</td>\n",
       "      <td>0.5</td>\n",
       "      <td>0.503</td>\n",
       "      <td>0.498</td>\n",
       "      <td>0.223</td>\n",
       "    </tr>\n",
       "    <tr>\n",
       "      <th>C4</th>\n",
       "      <td>0.330</td>\n",
       "      <td>0.211</td>\n",
       "      <td>0.530</td>\n",
       "      <td>0.150</td>\n",
       "      <td>1.0</td>\n",
       "      <td>0.000</td>\n",
       "      <td>0.520</td>\n",
       "      <td>0.499</td>\n",
       "    </tr>\n",
       "    <tr>\n",
       "      <th>C5</th>\n",
       "      <td>0.594</td>\n",
       "      <td>0.585</td>\n",
       "      <td>0.478</td>\n",
       "      <td>0.460</td>\n",
       "      <td>0.5</td>\n",
       "      <td>0.000</td>\n",
       "      <td>0.516</td>\n",
       "      <td>0.223</td>\n",
       "    </tr>\n",
       "    <tr>\n",
       "      <th>C6</th>\n",
       "      <td>0.505</td>\n",
       "      <td>0.410</td>\n",
       "      <td>0.554</td>\n",
       "      <td>0.185</td>\n",
       "      <td>0.5</td>\n",
       "      <td>0.514</td>\n",
       "      <td>0.492</td>\n",
       "      <td>0.221</td>\n",
       "    </tr>\n",
       "    <tr>\n",
       "      <th>C7</th>\n",
       "      <td>0.499</td>\n",
       "      <td>0.499</td>\n",
       "      <td>0.500</td>\n",
       "      <td>0.261</td>\n",
       "      <td>0.5</td>\n",
       "      <td>0.000</td>\n",
       "      <td>0.500</td>\n",
       "      <td>0.277</td>\n",
       "    </tr>\n",
       "    <tr>\n",
       "      <th>C8</th>\n",
       "      <td>0.370</td>\n",
       "      <td>0.530</td>\n",
       "      <td>0.600</td>\n",
       "      <td>0.190</td>\n",
       "      <td>0.5</td>\n",
       "      <td>0.500</td>\n",
       "      <td>0.420</td>\n",
       "      <td>0.220</td>\n",
       "    </tr>\n",
       "    <tr>\n",
       "      <th>C9</th>\n",
       "      <td>0.557</td>\n",
       "      <td>0.548</td>\n",
       "      <td>0.487</td>\n",
       "      <td>0.283</td>\n",
       "      <td>0.5</td>\n",
       "      <td>0.000</td>\n",
       "      <td>0.504</td>\n",
       "      <td>0.246</td>\n",
       "    </tr>\n",
       "    <tr>\n",
       "      <th>C10</th>\n",
       "      <td>0.400</td>\n",
       "      <td>0.417</td>\n",
       "      <td>0.493</td>\n",
       "      <td>0.145</td>\n",
       "      <td>1.0</td>\n",
       "      <td>0.000</td>\n",
       "      <td>0.538</td>\n",
       "      <td>0.335</td>\n",
       "    </tr>\n",
       "  </tbody>\n",
       "</table>\n",
       "</div>"
      ]
     },
     "metadata": {},
     "execution_count": 58
    }
   ],
   "metadata": {}
  },
  {
   "cell_type": "code",
   "execution_count": 60,
   "source": [
    "modified_partition_coefficient(U2)"
   ],
   "outputs": [
    {
     "output_type": "execute_result",
     "data": {
      "text/plain": [
       "0.9999582981576908"
      ]
     },
     "metadata": {},
     "execution_count": 60
    }
   ],
   "metadata": {}
  },
  {
   "cell_type": "code",
   "execution_count": 61,
   "source": [
    "partition_entropy_coefficient(U2)"
   ],
   "outputs": [
    {
     "output_type": "execute_result",
     "data": {
      "text/plain": [
       "0.00016220530495743903"
      ]
     },
     "metadata": {},
     "execution_count": 61
    }
   ],
   "metadata": {}
  },
  {
   "cell_type": "code",
   "execution_count": 14,
   "source": [
    "crisp2 = fuzzy_to_crisp(U2)\n",
    "np.unique(crisp2,return_counts=True)"
   ],
   "outputs": [
    {
     "output_type": "execute_result",
     "data": {
      "text/plain": [
       "(array([0, 1, 3, 6, 7]), array([  13,   14,    1, 1455,    1]))"
      ]
     },
     "metadata": {},
     "execution_count": 14
    }
   ],
   "metadata": {}
  },
  {
   "cell_type": "code",
   "execution_count": 63,
   "source": [
    "adjusted_rand_score(labels, crisp2)"
   ],
   "outputs": [
    {
     "output_type": "execute_result",
     "data": {
      "text/plain": [
       "0.011617590277508132"
      ]
     },
     "metadata": {},
     "execution_count": 63
    }
   ],
   "metadata": {}
  },
  {
   "cell_type": "code",
   "execution_count": 32,
   "source": [
    "F_measure(x_true = labels, x_pred = crisp2)"
   ],
   "outputs": [
    {
     "output_type": "execute_result",
     "data": {
      "text/plain": [
       "0.36412189193351574"
      ]
     },
     "metadata": {},
     "execution_count": 32
    }
   ],
   "metadata": {}
  },
  {
   "cell_type": "code",
   "execution_count": 15,
   "source": [
    "OERC(labels,crisp2)"
   ],
   "outputs": [
    {
     "output_type": "execute_result",
     "data": {
      "text/plain": [
       "0.6799191374663073"
      ]
     },
     "metadata": {},
     "execution_count": 15
    }
   ],
   "metadata": {}
  },
  {
   "cell_type": "code",
   "execution_count": 35,
   "source": [
    "CM2 = confusion_matrix(labels, crisp2, labels=[0,1,2,3,4,5,6,7,8,9])\n",
    "pd.DataFrame(CM2)\n",
    "CM2.sum(axis =0)"
   ],
   "outputs": [
    {
     "output_type": "execute_result",
     "data": {
      "text/plain": [
       "array([  13,   14,    0,    1,    0,    0, 1455,    1,    0,    0])"
      ]
     },
     "metadata": {},
     "execution_count": 35
    }
   ],
   "metadata": {}
  },
  {
   "cell_type": "markdown",
   "source": [
    "### Resultado para m = 2.0"
   ],
   "metadata": {}
  },
  {
   "cell_type": "code",
   "execution_count": 16,
   "source": [
    "rs3 = pd.read_csv('Resultados/application1/j/J(2.0).csv', names = ['J'])\n",
    "idm3 = rs3.idxmin()\n",
    "rs3.iloc[idm3] # Melhor resultado da função objetivo"
   ],
   "outputs": [
    {
     "output_type": "execute_result",
     "data": {
      "text/plain": [
       "               J\n",
       "86  2.917565e-13"
      ],
      "text/html": [
       "<div>\n",
       "<style scoped>\n",
       "    .dataframe tbody tr th:only-of-type {\n",
       "        vertical-align: middle;\n",
       "    }\n",
       "\n",
       "    .dataframe tbody tr th {\n",
       "        vertical-align: top;\n",
       "    }\n",
       "\n",
       "    .dataframe thead th {\n",
       "        text-align: right;\n",
       "    }\n",
       "</style>\n",
       "<table border=\"1\" class=\"dataframe\">\n",
       "  <thead>\n",
       "    <tr style=\"text-align: right;\">\n",
       "      <th></th>\n",
       "      <th>J</th>\n",
       "    </tr>\n",
       "  </thead>\n",
       "  <tbody>\n",
       "    <tr>\n",
       "      <th>86</th>\n",
       "      <td>2.917565e-13</td>\n",
       "    </tr>\n",
       "  </tbody>\n",
       "</table>\n",
       "</div>"
      ]
     },
     "metadata": {},
     "execution_count": 16
    }
   ],
   "metadata": {}
  },
  {
   "cell_type": "code",
   "execution_count": 17,
   "source": [
    "colnames = ['C1', 'C2', 'C3','C4','C5','C6','C7','C8','C9','C10']\n",
    "\n",
    "G3 = pd.read_csv('Resultados/application1/prototype/G86(2.0).csv')\n",
    "U3 = pd.read_csv('Resultados/application1/degree/U86(2.0).csv')\n",
    "W3 = pd.read_csv('Resultados/application1/weight/W86(2.0).csv')\n",
    "W3.index = colnames\n",
    "G3.index = colnames"
   ],
   "outputs": [],
   "metadata": {}
  },
  {
   "cell_type": "code",
   "execution_count": 67,
   "source": [
    "G3\n",
    "round(G3,3)\n"
   ],
   "outputs": [
    {
     "output_type": "execute_result",
     "data": {
      "text/plain": [
       "       mcg    gvh    alm    mit    erl    pox    vac    nuc\n",
       "C1   0.680  0.581  0.510  0.186  0.500  0.830  0.539  0.220\n",
       "C2   0.448  0.416  0.489  0.147  1.000  0.000  0.526  0.301\n",
       "C3   0.499  0.499  0.500  0.261  0.500  0.000  0.500  0.277\n",
       "C4   0.442  0.427  0.491  0.163  1.000  0.000  0.527  0.314\n",
       "C5   0.370  0.530  0.600  0.190  0.500  0.500  0.420  0.220\n",
       "C6   0.515  0.501  0.492  0.234  0.500  0.757  0.510  0.300\n",
       "C7   0.591  0.577  0.493  0.253  1.000  0.000  0.526  0.279\n",
       "C8   0.663  0.596  0.509  0.139  0.500  0.830  0.522  0.223\n",
       "C9   0.491  0.484  0.506  0.267  0.500  0.748  0.512  0.241\n",
       "C10  0.444  0.428  0.492  0.163  0.999  0.000  0.527  0.313"
      ],
      "text/html": [
       "<div>\n",
       "<style scoped>\n",
       "    .dataframe tbody tr th:only-of-type {\n",
       "        vertical-align: middle;\n",
       "    }\n",
       "\n",
       "    .dataframe tbody tr th {\n",
       "        vertical-align: top;\n",
       "    }\n",
       "\n",
       "    .dataframe thead th {\n",
       "        text-align: right;\n",
       "    }\n",
       "</style>\n",
       "<table border=\"1\" class=\"dataframe\">\n",
       "  <thead>\n",
       "    <tr style=\"text-align: right;\">\n",
       "      <th></th>\n",
       "      <th>mcg</th>\n",
       "      <th>gvh</th>\n",
       "      <th>alm</th>\n",
       "      <th>mit</th>\n",
       "      <th>erl</th>\n",
       "      <th>pox</th>\n",
       "      <th>vac</th>\n",
       "      <th>nuc</th>\n",
       "    </tr>\n",
       "  </thead>\n",
       "  <tbody>\n",
       "    <tr>\n",
       "      <th>C1</th>\n",
       "      <td>0.680</td>\n",
       "      <td>0.581</td>\n",
       "      <td>0.510</td>\n",
       "      <td>0.186</td>\n",
       "      <td>0.500</td>\n",
       "      <td>0.830</td>\n",
       "      <td>0.539</td>\n",
       "      <td>0.220</td>\n",
       "    </tr>\n",
       "    <tr>\n",
       "      <th>C2</th>\n",
       "      <td>0.448</td>\n",
       "      <td>0.416</td>\n",
       "      <td>0.489</td>\n",
       "      <td>0.147</td>\n",
       "      <td>1.000</td>\n",
       "      <td>0.000</td>\n",
       "      <td>0.526</td>\n",
       "      <td>0.301</td>\n",
       "    </tr>\n",
       "    <tr>\n",
       "      <th>C3</th>\n",
       "      <td>0.499</td>\n",
       "      <td>0.499</td>\n",
       "      <td>0.500</td>\n",
       "      <td>0.261</td>\n",
       "      <td>0.500</td>\n",
       "      <td>0.000</td>\n",
       "      <td>0.500</td>\n",
       "      <td>0.277</td>\n",
       "    </tr>\n",
       "    <tr>\n",
       "      <th>C4</th>\n",
       "      <td>0.442</td>\n",
       "      <td>0.427</td>\n",
       "      <td>0.491</td>\n",
       "      <td>0.163</td>\n",
       "      <td>1.000</td>\n",
       "      <td>0.000</td>\n",
       "      <td>0.527</td>\n",
       "      <td>0.314</td>\n",
       "    </tr>\n",
       "    <tr>\n",
       "      <th>C5</th>\n",
       "      <td>0.370</td>\n",
       "      <td>0.530</td>\n",
       "      <td>0.600</td>\n",
       "      <td>0.190</td>\n",
       "      <td>0.500</td>\n",
       "      <td>0.500</td>\n",
       "      <td>0.420</td>\n",
       "      <td>0.220</td>\n",
       "    </tr>\n",
       "    <tr>\n",
       "      <th>C6</th>\n",
       "      <td>0.515</td>\n",
       "      <td>0.501</td>\n",
       "      <td>0.492</td>\n",
       "      <td>0.234</td>\n",
       "      <td>0.500</td>\n",
       "      <td>0.757</td>\n",
       "      <td>0.510</td>\n",
       "      <td>0.300</td>\n",
       "    </tr>\n",
       "    <tr>\n",
       "      <th>C7</th>\n",
       "      <td>0.591</td>\n",
       "      <td>0.577</td>\n",
       "      <td>0.493</td>\n",
       "      <td>0.253</td>\n",
       "      <td>1.000</td>\n",
       "      <td>0.000</td>\n",
       "      <td>0.526</td>\n",
       "      <td>0.279</td>\n",
       "    </tr>\n",
       "    <tr>\n",
       "      <th>C8</th>\n",
       "      <td>0.663</td>\n",
       "      <td>0.596</td>\n",
       "      <td>0.509</td>\n",
       "      <td>0.139</td>\n",
       "      <td>0.500</td>\n",
       "      <td>0.830</td>\n",
       "      <td>0.522</td>\n",
       "      <td>0.223</td>\n",
       "    </tr>\n",
       "    <tr>\n",
       "      <th>C9</th>\n",
       "      <td>0.491</td>\n",
       "      <td>0.484</td>\n",
       "      <td>0.506</td>\n",
       "      <td>0.267</td>\n",
       "      <td>0.500</td>\n",
       "      <td>0.748</td>\n",
       "      <td>0.512</td>\n",
       "      <td>0.241</td>\n",
       "    </tr>\n",
       "    <tr>\n",
       "      <th>C10</th>\n",
       "      <td>0.444</td>\n",
       "      <td>0.428</td>\n",
       "      <td>0.492</td>\n",
       "      <td>0.163</td>\n",
       "      <td>0.999</td>\n",
       "      <td>0.000</td>\n",
       "      <td>0.527</td>\n",
       "      <td>0.313</td>\n",
       "    </tr>\n",
       "  </tbody>\n",
       "</table>\n",
       "</div>"
      ]
     },
     "metadata": {},
     "execution_count": 67
    }
   ],
   "metadata": {}
  },
  {
   "cell_type": "code",
   "execution_count": 69,
   "source": [
    "modified_partition_coefficient(U3)"
   ],
   "outputs": [
    {
     "output_type": "execute_result",
     "data": {
      "text/plain": [
       "0.9995544128113535"
      ]
     },
     "metadata": {},
     "execution_count": 69
    }
   ],
   "metadata": {}
  },
  {
   "cell_type": "code",
   "execution_count": 70,
   "source": [
    "partition_entropy_coefficient(U3)"
   ],
   "outputs": [
    {
     "output_type": "execute_result",
     "data": {
      "text/plain": [
       "0.0007711099514318296"
      ]
     },
     "metadata": {},
     "execution_count": 70
    }
   ],
   "metadata": {}
  },
  {
   "cell_type": "code",
   "execution_count": 18,
   "source": [
    "crisp3 = fuzzy_to_crisp(U3)\n",
    "np.unique(crisp3,return_counts=True)"
   ],
   "outputs": [
    {
     "output_type": "execute_result",
     "data": {
      "text/plain": [
       "(array([0, 2, 4, 6, 8]), array([   1, 1455,    1,   14,   13]))"
      ]
     },
     "metadata": {},
     "execution_count": 18
    }
   ],
   "metadata": {}
  },
  {
   "cell_type": "code",
   "execution_count": 72,
   "source": [
    "adjusted_rand_score(labels, crisp3)"
   ],
   "outputs": [
    {
     "output_type": "execute_result",
     "data": {
      "text/plain": [
       "0.011600759196164507"
      ]
     },
     "metadata": {},
     "execution_count": 72
    }
   ],
   "metadata": {}
  },
  {
   "cell_type": "code",
   "execution_count": 73,
   "source": [
    "F_measure(x_true = labels, x_pred = crisp3)"
   ],
   "outputs": [
    {
     "output_type": "execute_result",
     "data": {
      "text/plain": [
       "0.36344681524640565"
      ]
     },
     "metadata": {},
     "execution_count": 73
    }
   ],
   "metadata": {}
  },
  {
   "cell_type": "code",
   "execution_count": 19,
   "source": [
    "OERC(labels,crisp3)"
   ],
   "outputs": [
    {
     "output_type": "execute_result",
     "data": {
      "text/plain": [
       "0.6805929919137466"
      ]
     },
     "metadata": {},
     "execution_count": 19
    }
   ],
   "metadata": {}
  },
  {
   "cell_type": "code",
   "execution_count": 47,
   "source": [
    "CM3 = confusion_matrix(labels, crisp3, labels=[0,1,2,3,4,5,6,7,8,9])\n",
    "pd.DataFrame(CM3)\n",
    "CM3.sum(axis=0)"
   ],
   "outputs": [
    {
     "output_type": "execute_result",
     "data": {
      "text/plain": [
       "array([   1,    0, 1455,    0,    1,    0,   14,    0,   13,    0])"
      ]
     },
     "metadata": {},
     "execution_count": 47
    }
   ],
   "metadata": {}
  },
  {
   "cell_type": "markdown",
   "source": [
    "## Análise de todas as iterações "
   ],
   "metadata": {}
  },
  {
   "cell_type": "code",
   "execution_count": 20,
   "source": [
    "colnames = ['C1', 'C2', 'C3','C4','C5','C6','C7','C8','C9','C10']\n",
    "mpc = pd.DataFrame(np.zeros((100,4)), columns=['m = 1.0001','m = 1.1','m = 1.6', 'm = 2.0'])\n",
    "pec = pd.DataFrame(np.zeros((100,4)), columns=['m = 1.0001','m = 1.1','m = 1.6', 'm = 2.0'])\n",
    "ari = pd.DataFrame(np.zeros((100,4)), columns=['m = 1.0001','m = 1.1','m = 1.6', 'm = 2.0'])\n",
    "fm = pd.DataFrame(np.zeros((100,4)), columns=['m = 1.0001','m = 1.1','m = 1.6', 'm = 2.0'])\n",
    "cer = pd.DataFrame(np.zeros((100,4)), columns=['m = 1.0001','m = 1.1','m = 1.6', 'm = 2.0'])\n",
    "j =  pd.DataFrame(np.zeros((100,4)), columns=['m = 1.0001','m = 1.1','m = 1.6', 'm = 2.0'])\n",
    "t =  pd.DataFrame(np.zeros((100,4)), columns=['m = 1.0001','m = 1.1','m = 1.6', 'm = 2.0'])\n",
    "M = [1.0001,1.1, 1.6, 2.0]\n",
    "for m in M:\n",
    "    jm = pd.read_csv('Resultados/application1/j/J(' + str(m) + ').csv', names = ['J'])\n",
    "    tm = pd.read_csv('Resultados/application1/t/T' + '(' + str(m) + ').csv', names = ['T'])\n",
    "    j['m = ' + str(m)] = jm\n",
    "    t['m = ' + str(m)] = tm\n",
    "\n",
    "    for i in range(100):\n",
    "        Uname = 'Resultados/application1/degree/U' + str(i) + '(' + str(m) + ').csv'\n",
    "        U = pd.read_csv(Uname)\n",
    "        mpc.loc[i,'m = ' + str(m)] = modified_partition_coefficient(U)\n",
    "        pec.loc[i,'m = ' + str(m)] = partition_entropy_coefficient(U)\n",
    "        crisp = fuzzy_to_crisp(U)\n",
    "        ari.loc[i,'m = ' + str(m)] = adjusted_rand_score(labels,crisp)\n",
    "        fm.loc[i,'m = ' + str(m)] = F_measure(labels,crisp)\n",
    "        cer.loc[i,'m = ' + str(m)] = OERC(labels,crisp)\n",
    "\n",
    "\n"
   ],
   "outputs": [
    {
     "output_type": "stream",
     "name": "stderr",
     "text": [
      "<ipython-input-1-68b283386728>:13: RuntimeWarning: divide by zero encountered in log\n",
      "  M = -(U * np.log(U))\n",
      "<ipython-input-1-68b283386728>:13: RuntimeWarning: invalid value encountered in multiply\n",
      "  M = -(U * np.log(U))\n",
      "<ipython-input-1-68b283386728>:13: RuntimeWarning: divide by zero encountered in log\n",
      "  M = -(U * np.log(U))\n",
      "<ipython-input-1-68b283386728>:13: RuntimeWarning: invalid value encountered in multiply\n",
      "  M = -(U * np.log(U))\n",
      "<ipython-input-1-68b283386728>:13: RuntimeWarning: divide by zero encountered in log\n",
      "  M = -(U * np.log(U))\n",
      "<ipython-input-1-68b283386728>:13: RuntimeWarning: invalid value encountered in multiply\n",
      "  M = -(U * np.log(U))\n",
      "<ipython-input-1-68b283386728>:13: RuntimeWarning: divide by zero encountered in log\n",
      "  M = -(U * np.log(U))\n",
      "<ipython-input-1-68b283386728>:13: RuntimeWarning: invalid value encountered in multiply\n",
      "  M = -(U * np.log(U))\n",
      "<ipython-input-1-68b283386728>:13: RuntimeWarning: divide by zero encountered in log\n",
      "  M = -(U * np.log(U))\n",
      "<ipython-input-1-68b283386728>:13: RuntimeWarning: invalid value encountered in multiply\n",
      "  M = -(U * np.log(U))\n",
      "<ipython-input-1-68b283386728>:13: RuntimeWarning: divide by zero encountered in log\n",
      "  M = -(U * np.log(U))\n",
      "<ipython-input-1-68b283386728>:13: RuntimeWarning: invalid value encountered in multiply\n",
      "  M = -(U * np.log(U))\n",
      "<ipython-input-1-68b283386728>:13: RuntimeWarning: divide by zero encountered in log\n",
      "  M = -(U * np.log(U))\n",
      "<ipython-input-1-68b283386728>:13: RuntimeWarning: invalid value encountered in multiply\n",
      "  M = -(U * np.log(U))\n",
      "<ipython-input-1-68b283386728>:13: RuntimeWarning: divide by zero encountered in log\n",
      "  M = -(U * np.log(U))\n",
      "<ipython-input-1-68b283386728>:13: RuntimeWarning: invalid value encountered in multiply\n",
      "  M = -(U * np.log(U))\n",
      "<ipython-input-1-68b283386728>:13: RuntimeWarning: divide by zero encountered in log\n",
      "  M = -(U * np.log(U))\n",
      "<ipython-input-1-68b283386728>:13: RuntimeWarning: invalid value encountered in multiply\n",
      "  M = -(U * np.log(U))\n",
      "<ipython-input-1-68b283386728>:13: RuntimeWarning: divide by zero encountered in log\n",
      "  M = -(U * np.log(U))\n",
      "<ipython-input-1-68b283386728>:13: RuntimeWarning: invalid value encountered in multiply\n",
      "  M = -(U * np.log(U))\n",
      "<ipython-input-1-68b283386728>:13: RuntimeWarning: divide by zero encountered in log\n",
      "  M = -(U * np.log(U))\n",
      "<ipython-input-1-68b283386728>:13: RuntimeWarning: invalid value encountered in multiply\n",
      "  M = -(U * np.log(U))\n",
      "<ipython-input-1-68b283386728>:13: RuntimeWarning: divide by zero encountered in log\n",
      "  M = -(U * np.log(U))\n",
      "<ipython-input-1-68b283386728>:13: RuntimeWarning: invalid value encountered in multiply\n",
      "  M = -(U * np.log(U))\n",
      "<ipython-input-1-68b283386728>:13: RuntimeWarning: divide by zero encountered in log\n",
      "  M = -(U * np.log(U))\n",
      "<ipython-input-1-68b283386728>:13: RuntimeWarning: invalid value encountered in multiply\n",
      "  M = -(U * np.log(U))\n",
      "<ipython-input-1-68b283386728>:13: RuntimeWarning: divide by zero encountered in log\n",
      "  M = -(U * np.log(U))\n",
      "<ipython-input-1-68b283386728>:13: RuntimeWarning: invalid value encountered in multiply\n",
      "  M = -(U * np.log(U))\n",
      "<ipython-input-1-68b283386728>:13: RuntimeWarning: divide by zero encountered in log\n",
      "  M = -(U * np.log(U))\n",
      "<ipython-input-1-68b283386728>:13: RuntimeWarning: invalid value encountered in multiply\n",
      "  M = -(U * np.log(U))\n",
      "<ipython-input-1-68b283386728>:13: RuntimeWarning: divide by zero encountered in log\n",
      "  M = -(U * np.log(U))\n",
      "<ipython-input-1-68b283386728>:13: RuntimeWarning: invalid value encountered in multiply\n",
      "  M = -(U * np.log(U))\n",
      "<ipython-input-1-68b283386728>:13: RuntimeWarning: divide by zero encountered in log\n",
      "  M = -(U * np.log(U))\n",
      "<ipython-input-1-68b283386728>:13: RuntimeWarning: invalid value encountered in multiply\n",
      "  M = -(U * np.log(U))\n",
      "<ipython-input-1-68b283386728>:13: RuntimeWarning: divide by zero encountered in log\n",
      "  M = -(U * np.log(U))\n",
      "<ipython-input-1-68b283386728>:13: RuntimeWarning: invalid value encountered in multiply\n",
      "  M = -(U * np.log(U))\n",
      "<ipython-input-1-68b283386728>:13: RuntimeWarning: divide by zero encountered in log\n",
      "  M = -(U * np.log(U))\n",
      "<ipython-input-1-68b283386728>:13: RuntimeWarning: invalid value encountered in multiply\n",
      "  M = -(U * np.log(U))\n",
      "<ipython-input-1-68b283386728>:13: RuntimeWarning: divide by zero encountered in log\n",
      "  M = -(U * np.log(U))\n",
      "<ipython-input-1-68b283386728>:13: RuntimeWarning: invalid value encountered in multiply\n",
      "  M = -(U * np.log(U))\n",
      "<ipython-input-1-68b283386728>:13: RuntimeWarning: divide by zero encountered in log\n",
      "  M = -(U * np.log(U))\n",
      "<ipython-input-1-68b283386728>:13: RuntimeWarning: invalid value encountered in multiply\n",
      "  M = -(U * np.log(U))\n",
      "<ipython-input-1-68b283386728>:13: RuntimeWarning: divide by zero encountered in log\n",
      "  M = -(U * np.log(U))\n",
      "<ipython-input-1-68b283386728>:13: RuntimeWarning: invalid value encountered in multiply\n",
      "  M = -(U * np.log(U))\n",
      "<ipython-input-1-68b283386728>:13: RuntimeWarning: divide by zero encountered in log\n",
      "  M = -(U * np.log(U))\n",
      "<ipython-input-1-68b283386728>:13: RuntimeWarning: invalid value encountered in multiply\n",
      "  M = -(U * np.log(U))\n",
      "<ipython-input-1-68b283386728>:13: RuntimeWarning: divide by zero encountered in log\n",
      "  M = -(U * np.log(U))\n",
      "<ipython-input-1-68b283386728>:13: RuntimeWarning: invalid value encountered in multiply\n",
      "  M = -(U * np.log(U))\n",
      "<ipython-input-1-68b283386728>:13: RuntimeWarning: divide by zero encountered in log\n",
      "  M = -(U * np.log(U))\n",
      "<ipython-input-1-68b283386728>:13: RuntimeWarning: invalid value encountered in multiply\n",
      "  M = -(U * np.log(U))\n",
      "<ipython-input-1-68b283386728>:13: RuntimeWarning: divide by zero encountered in log\n",
      "  M = -(U * np.log(U))\n",
      "<ipython-input-1-68b283386728>:13: RuntimeWarning: invalid value encountered in multiply\n",
      "  M = -(U * np.log(U))\n",
      "<ipython-input-1-68b283386728>:13: RuntimeWarning: divide by zero encountered in log\n",
      "  M = -(U * np.log(U))\n",
      "<ipython-input-1-68b283386728>:13: RuntimeWarning: invalid value encountered in multiply\n",
      "  M = -(U * np.log(U))\n",
      "<ipython-input-1-68b283386728>:13: RuntimeWarning: divide by zero encountered in log\n",
      "  M = -(U * np.log(U))\n",
      "<ipython-input-1-68b283386728>:13: RuntimeWarning: invalid value encountered in multiply\n",
      "  M = -(U * np.log(U))\n",
      "<ipython-input-1-68b283386728>:13: RuntimeWarning: divide by zero encountered in log\n",
      "  M = -(U * np.log(U))\n",
      "<ipython-input-1-68b283386728>:13: RuntimeWarning: invalid value encountered in multiply\n",
      "  M = -(U * np.log(U))\n",
      "<ipython-input-1-68b283386728>:13: RuntimeWarning: divide by zero encountered in log\n",
      "  M = -(U * np.log(U))\n",
      "<ipython-input-1-68b283386728>:13: RuntimeWarning: invalid value encountered in multiply\n",
      "  M = -(U * np.log(U))\n",
      "<ipython-input-1-68b283386728>:13: RuntimeWarning: divide by zero encountered in log\n",
      "  M = -(U * np.log(U))\n",
      "<ipython-input-1-68b283386728>:13: RuntimeWarning: invalid value encountered in multiply\n",
      "  M = -(U * np.log(U))\n",
      "<ipython-input-1-68b283386728>:13: RuntimeWarning: divide by zero encountered in log\n",
      "  M = -(U * np.log(U))\n",
      "<ipython-input-1-68b283386728>:13: RuntimeWarning: invalid value encountered in multiply\n",
      "  M = -(U * np.log(U))\n",
      "<ipython-input-1-68b283386728>:13: RuntimeWarning: divide by zero encountered in log\n",
      "  M = -(U * np.log(U))\n",
      "<ipython-input-1-68b283386728>:13: RuntimeWarning: invalid value encountered in multiply\n",
      "  M = -(U * np.log(U))\n",
      "<ipython-input-1-68b283386728>:13: RuntimeWarning: divide by zero encountered in log\n",
      "  M = -(U * np.log(U))\n",
      "<ipython-input-1-68b283386728>:13: RuntimeWarning: invalid value encountered in multiply\n",
      "  M = -(U * np.log(U))\n",
      "<ipython-input-1-68b283386728>:13: RuntimeWarning: divide by zero encountered in log\n",
      "  M = -(U * np.log(U))\n",
      "<ipython-input-1-68b283386728>:13: RuntimeWarning: invalid value encountered in multiply\n",
      "  M = -(U * np.log(U))\n",
      "<ipython-input-1-68b283386728>:13: RuntimeWarning: divide by zero encountered in log\n",
      "  M = -(U * np.log(U))\n",
      "<ipython-input-1-68b283386728>:13: RuntimeWarning: invalid value encountered in multiply\n",
      "  M = -(U * np.log(U))\n",
      "<ipython-input-1-68b283386728>:13: RuntimeWarning: divide by zero encountered in log\n",
      "  M = -(U * np.log(U))\n",
      "<ipython-input-1-68b283386728>:13: RuntimeWarning: invalid value encountered in multiply\n",
      "  M = -(U * np.log(U))\n",
      "<ipython-input-1-68b283386728>:13: RuntimeWarning: divide by zero encountered in log\n",
      "  M = -(U * np.log(U))\n",
      "<ipython-input-1-68b283386728>:13: RuntimeWarning: invalid value encountered in multiply\n",
      "  M = -(U * np.log(U))\n",
      "<ipython-input-1-68b283386728>:13: RuntimeWarning: divide by zero encountered in log\n",
      "  M = -(U * np.log(U))\n",
      "<ipython-input-1-68b283386728>:13: RuntimeWarning: invalid value encountered in multiply\n",
      "  M = -(U * np.log(U))\n",
      "<ipython-input-1-68b283386728>:13: RuntimeWarning: divide by zero encountered in log\n",
      "  M = -(U * np.log(U))\n",
      "<ipython-input-1-68b283386728>:13: RuntimeWarning: invalid value encountered in multiply\n",
      "  M = -(U * np.log(U))\n",
      "<ipython-input-1-68b283386728>:13: RuntimeWarning: divide by zero encountered in log\n",
      "  M = -(U * np.log(U))\n",
      "<ipython-input-1-68b283386728>:13: RuntimeWarning: invalid value encountered in multiply\n",
      "  M = -(U * np.log(U))\n",
      "<ipython-input-1-68b283386728>:13: RuntimeWarning: divide by zero encountered in log\n",
      "  M = -(U * np.log(U))\n",
      "<ipython-input-1-68b283386728>:13: RuntimeWarning: invalid value encountered in multiply\n",
      "  M = -(U * np.log(U))\n",
      "<ipython-input-1-68b283386728>:13: RuntimeWarning: divide by zero encountered in log\n",
      "  M = -(U * np.log(U))\n",
      "<ipython-input-1-68b283386728>:13: RuntimeWarning: invalid value encountered in multiply\n",
      "  M = -(U * np.log(U))\n",
      "<ipython-input-1-68b283386728>:13: RuntimeWarning: divide by zero encountered in log\n",
      "  M = -(U * np.log(U))\n",
      "<ipython-input-1-68b283386728>:13: RuntimeWarning: invalid value encountered in multiply\n",
      "  M = -(U * np.log(U))\n",
      "<ipython-input-1-68b283386728>:13: RuntimeWarning: divide by zero encountered in log\n",
      "  M = -(U * np.log(U))\n",
      "<ipython-input-1-68b283386728>:13: RuntimeWarning: invalid value encountered in multiply\n",
      "  M = -(U * np.log(U))\n",
      "<ipython-input-1-68b283386728>:13: RuntimeWarning: divide by zero encountered in log\n",
      "  M = -(U * np.log(U))\n",
      "<ipython-input-1-68b283386728>:13: RuntimeWarning: invalid value encountered in multiply\n",
      "  M = -(U * np.log(U))\n",
      "<ipython-input-1-68b283386728>:13: RuntimeWarning: divide by zero encountered in log\n",
      "  M = -(U * np.log(U))\n",
      "<ipython-input-1-68b283386728>:13: RuntimeWarning: invalid value encountered in multiply\n",
      "  M = -(U * np.log(U))\n",
      "<ipython-input-1-68b283386728>:13: RuntimeWarning: divide by zero encountered in log\n",
      "  M = -(U * np.log(U))\n",
      "<ipython-input-1-68b283386728>:13: RuntimeWarning: invalid value encountered in multiply\n",
      "  M = -(U * np.log(U))\n",
      "<ipython-input-1-68b283386728>:13: RuntimeWarning: divide by zero encountered in log\n",
      "  M = -(U * np.log(U))\n",
      "<ipython-input-1-68b283386728>:13: RuntimeWarning: invalid value encountered in multiply\n",
      "  M = -(U * np.log(U))\n",
      "<ipython-input-1-68b283386728>:13: RuntimeWarning: divide by zero encountered in log\n",
      "  M = -(U * np.log(U))\n",
      "<ipython-input-1-68b283386728>:13: RuntimeWarning: invalid value encountered in multiply\n",
      "  M = -(U * np.log(U))\n",
      "<ipython-input-1-68b283386728>:13: RuntimeWarning: divide by zero encountered in log\n",
      "  M = -(U * np.log(U))\n",
      "<ipython-input-1-68b283386728>:13: RuntimeWarning: invalid value encountered in multiply\n",
      "  M = -(U * np.log(U))\n",
      "<ipython-input-1-68b283386728>:13: RuntimeWarning: divide by zero encountered in log\n",
      "  M = -(U * np.log(U))\n",
      "<ipython-input-1-68b283386728>:13: RuntimeWarning: invalid value encountered in multiply\n",
      "  M = -(U * np.log(U))\n",
      "<ipython-input-1-68b283386728>:13: RuntimeWarning: divide by zero encountered in log\n",
      "  M = -(U * np.log(U))\n",
      "<ipython-input-1-68b283386728>:13: RuntimeWarning: invalid value encountered in multiply\n",
      "  M = -(U * np.log(U))\n",
      "<ipython-input-1-68b283386728>:13: RuntimeWarning: divide by zero encountered in log\n",
      "  M = -(U * np.log(U))\n",
      "<ipython-input-1-68b283386728>:13: RuntimeWarning: invalid value encountered in multiply\n",
      "  M = -(U * np.log(U))\n",
      "<ipython-input-1-68b283386728>:13: RuntimeWarning: divide by zero encountered in log\n",
      "  M = -(U * np.log(U))\n",
      "<ipython-input-1-68b283386728>:13: RuntimeWarning: invalid value encountered in multiply\n",
      "  M = -(U * np.log(U))\n",
      "<ipython-input-1-68b283386728>:13: RuntimeWarning: divide by zero encountered in log\n",
      "  M = -(U * np.log(U))\n",
      "<ipython-input-1-68b283386728>:13: RuntimeWarning: invalid value encountered in multiply\n",
      "  M = -(U * np.log(U))\n",
      "<ipython-input-1-68b283386728>:13: RuntimeWarning: divide by zero encountered in log\n",
      "  M = -(U * np.log(U))\n",
      "<ipython-input-1-68b283386728>:13: RuntimeWarning: invalid value encountered in multiply\n",
      "  M = -(U * np.log(U))\n",
      "<ipython-input-1-68b283386728>:13: RuntimeWarning: divide by zero encountered in log\n",
      "  M = -(U * np.log(U))\n",
      "<ipython-input-1-68b283386728>:13: RuntimeWarning: invalid value encountered in multiply\n",
      "  M = -(U * np.log(U))\n",
      "<ipython-input-1-68b283386728>:13: RuntimeWarning: divide by zero encountered in log\n",
      "  M = -(U * np.log(U))\n",
      "<ipython-input-1-68b283386728>:13: RuntimeWarning: invalid value encountered in multiply\n",
      "  M = -(U * np.log(U))\n",
      "<ipython-input-1-68b283386728>:13: RuntimeWarning: divide by zero encountered in log\n",
      "  M = -(U * np.log(U))\n",
      "<ipython-input-1-68b283386728>:13: RuntimeWarning: invalid value encountered in multiply\n",
      "  M = -(U * np.log(U))\n",
      "<ipython-input-1-68b283386728>:13: RuntimeWarning: divide by zero encountered in log\n",
      "  M = -(U * np.log(U))\n",
      "<ipython-input-1-68b283386728>:13: RuntimeWarning: invalid value encountered in multiply\n",
      "  M = -(U * np.log(U))\n",
      "<ipython-input-1-68b283386728>:13: RuntimeWarning: divide by zero encountered in log\n",
      "  M = -(U * np.log(U))\n",
      "<ipython-input-1-68b283386728>:13: RuntimeWarning: invalid value encountered in multiply\n",
      "  M = -(U * np.log(U))\n",
      "<ipython-input-1-68b283386728>:13: RuntimeWarning: divide by zero encountered in log\n",
      "  M = -(U * np.log(U))\n",
      "<ipython-input-1-68b283386728>:13: RuntimeWarning: invalid value encountered in multiply\n",
      "  M = -(U * np.log(U))\n",
      "<ipython-input-1-68b283386728>:13: RuntimeWarning: divide by zero encountered in log\n",
      "  M = -(U * np.log(U))\n",
      "<ipython-input-1-68b283386728>:13: RuntimeWarning: invalid value encountered in multiply\n",
      "  M = -(U * np.log(U))\n",
      "<ipython-input-1-68b283386728>:13: RuntimeWarning: divide by zero encountered in log\n",
      "  M = -(U * np.log(U))\n",
      "<ipython-input-1-68b283386728>:13: RuntimeWarning: invalid value encountered in multiply\n",
      "  M = -(U * np.log(U))\n",
      "<ipython-input-1-68b283386728>:13: RuntimeWarning: divide by zero encountered in log\n",
      "  M = -(U * np.log(U))\n",
      "<ipython-input-1-68b283386728>:13: RuntimeWarning: invalid value encountered in multiply\n",
      "  M = -(U * np.log(U))\n",
      "<ipython-input-1-68b283386728>:13: RuntimeWarning: divide by zero encountered in log\n",
      "  M = -(U * np.log(U))\n",
      "<ipython-input-1-68b283386728>:13: RuntimeWarning: invalid value encountered in multiply\n",
      "  M = -(U * np.log(U))\n",
      "<ipython-input-1-68b283386728>:13: RuntimeWarning: divide by zero encountered in log\n",
      "  M = -(U * np.log(U))\n",
      "<ipython-input-1-68b283386728>:13: RuntimeWarning: invalid value encountered in multiply\n",
      "  M = -(U * np.log(U))\n",
      "<ipython-input-1-68b283386728>:13: RuntimeWarning: divide by zero encountered in log\n",
      "  M = -(U * np.log(U))\n",
      "<ipython-input-1-68b283386728>:13: RuntimeWarning: invalid value encountered in multiply\n",
      "  M = -(U * np.log(U))\n",
      "<ipython-input-1-68b283386728>:13: RuntimeWarning: divide by zero encountered in log\n",
      "  M = -(U * np.log(U))\n",
      "<ipython-input-1-68b283386728>:13: RuntimeWarning: invalid value encountered in multiply\n",
      "  M = -(U * np.log(U))\n",
      "<ipython-input-1-68b283386728>:13: RuntimeWarning: divide by zero encountered in log\n",
      "  M = -(U * np.log(U))\n",
      "<ipython-input-1-68b283386728>:13: RuntimeWarning: invalid value encountered in multiply\n",
      "  M = -(U * np.log(U))\n",
      "<ipython-input-1-68b283386728>:13: RuntimeWarning: divide by zero encountered in log\n",
      "  M = -(U * np.log(U))\n",
      "<ipython-input-1-68b283386728>:13: RuntimeWarning: invalid value encountered in multiply\n",
      "  M = -(U * np.log(U))\n",
      "<ipython-input-1-68b283386728>:13: RuntimeWarning: divide by zero encountered in log\n",
      "  M = -(U * np.log(U))\n",
      "<ipython-input-1-68b283386728>:13: RuntimeWarning: invalid value encountered in multiply\n",
      "  M = -(U * np.log(U))\n",
      "<ipython-input-1-68b283386728>:13: RuntimeWarning: divide by zero encountered in log\n",
      "  M = -(U * np.log(U))\n",
      "<ipython-input-1-68b283386728>:13: RuntimeWarning: invalid value encountered in multiply\n",
      "  M = -(U * np.log(U))\n",
      "<ipython-input-1-68b283386728>:13: RuntimeWarning: divide by zero encountered in log\n",
      "  M = -(U * np.log(U))\n",
      "<ipython-input-1-68b283386728>:13: RuntimeWarning: invalid value encountered in multiply\n",
      "  M = -(U * np.log(U))\n",
      "<ipython-input-1-68b283386728>:13: RuntimeWarning: divide by zero encountered in log\n",
      "  M = -(U * np.log(U))\n",
      "<ipython-input-1-68b283386728>:13: RuntimeWarning: invalid value encountered in multiply\n",
      "  M = -(U * np.log(U))\n",
      "<ipython-input-1-68b283386728>:13: RuntimeWarning: divide by zero encountered in log\n",
      "  M = -(U * np.log(U))\n",
      "<ipython-input-1-68b283386728>:13: RuntimeWarning: invalid value encountered in multiply\n",
      "  M = -(U * np.log(U))\n",
      "<ipython-input-1-68b283386728>:13: RuntimeWarning: divide by zero encountered in log\n",
      "  M = -(U * np.log(U))\n",
      "<ipython-input-1-68b283386728>:13: RuntimeWarning: invalid value encountered in multiply\n",
      "  M = -(U * np.log(U))\n",
      "<ipython-input-1-68b283386728>:13: RuntimeWarning: divide by zero encountered in log\n",
      "  M = -(U * np.log(U))\n",
      "<ipython-input-1-68b283386728>:13: RuntimeWarning: invalid value encountered in multiply\n",
      "  M = -(U * np.log(U))\n",
      "<ipython-input-1-68b283386728>:13: RuntimeWarning: divide by zero encountered in log\n",
      "  M = -(U * np.log(U))\n",
      "<ipython-input-1-68b283386728>:13: RuntimeWarning: invalid value encountered in multiply\n",
      "  M = -(U * np.log(U))\n",
      "<ipython-input-1-68b283386728>:13: RuntimeWarning: divide by zero encountered in log\n",
      "  M = -(U * np.log(U))\n",
      "<ipython-input-1-68b283386728>:13: RuntimeWarning: invalid value encountered in multiply\n",
      "  M = -(U * np.log(U))\n",
      "<ipython-input-1-68b283386728>:13: RuntimeWarning: divide by zero encountered in log\n",
      "  M = -(U * np.log(U))\n",
      "<ipython-input-1-68b283386728>:13: RuntimeWarning: invalid value encountered in multiply\n",
      "  M = -(U * np.log(U))\n",
      "<ipython-input-1-68b283386728>:13: RuntimeWarning: divide by zero encountered in log\n",
      "  M = -(U * np.log(U))\n",
      "<ipython-input-1-68b283386728>:13: RuntimeWarning: invalid value encountered in multiply\n",
      "  M = -(U * np.log(U))\n",
      "<ipython-input-1-68b283386728>:13: RuntimeWarning: divide by zero encountered in log\n",
      "  M = -(U * np.log(U))\n",
      "<ipython-input-1-68b283386728>:13: RuntimeWarning: invalid value encountered in multiply\n",
      "  M = -(U * np.log(U))\n",
      "<ipython-input-1-68b283386728>:13: RuntimeWarning: divide by zero encountered in log\n",
      "  M = -(U * np.log(U))\n",
      "<ipython-input-1-68b283386728>:13: RuntimeWarning: invalid value encountered in multiply\n",
      "  M = -(U * np.log(U))\n",
      "<ipython-input-1-68b283386728>:13: RuntimeWarning: divide by zero encountered in log\n",
      "  M = -(U * np.log(U))\n",
      "<ipython-input-1-68b283386728>:13: RuntimeWarning: invalid value encountered in multiply\n",
      "  M = -(U * np.log(U))\n",
      "<ipython-input-1-68b283386728>:13: RuntimeWarning: divide by zero encountered in log\n",
      "  M = -(U * np.log(U))\n",
      "<ipython-input-1-68b283386728>:13: RuntimeWarning: invalid value encountered in multiply\n",
      "  M = -(U * np.log(U))\n",
      "<ipython-input-1-68b283386728>:13: RuntimeWarning: divide by zero encountered in log\n",
      "  M = -(U * np.log(U))\n",
      "<ipython-input-1-68b283386728>:13: RuntimeWarning: invalid value encountered in multiply\n",
      "  M = -(U * np.log(U))\n",
      "<ipython-input-1-68b283386728>:13: RuntimeWarning: divide by zero encountered in log\n",
      "  M = -(U * np.log(U))\n",
      "<ipython-input-1-68b283386728>:13: RuntimeWarning: invalid value encountered in multiply\n",
      "  M = -(U * np.log(U))\n",
      "<ipython-input-1-68b283386728>:13: RuntimeWarning: divide by zero encountered in log\n",
      "  M = -(U * np.log(U))\n",
      "<ipython-input-1-68b283386728>:13: RuntimeWarning: invalid value encountered in multiply\n",
      "  M = -(U * np.log(U))\n",
      "<ipython-input-1-68b283386728>:13: RuntimeWarning: divide by zero encountered in log\n",
      "  M = -(U * np.log(U))\n",
      "<ipython-input-1-68b283386728>:13: RuntimeWarning: invalid value encountered in multiply\n",
      "  M = -(U * np.log(U))\n",
      "<ipython-input-1-68b283386728>:13: RuntimeWarning: divide by zero encountered in log\n",
      "  M = -(U * np.log(U))\n",
      "<ipython-input-1-68b283386728>:13: RuntimeWarning: invalid value encountered in multiply\n",
      "  M = -(U * np.log(U))\n",
      "<ipython-input-1-68b283386728>:13: RuntimeWarning: divide by zero encountered in log\n",
      "  M = -(U * np.log(U))\n",
      "<ipython-input-1-68b283386728>:13: RuntimeWarning: invalid value encountered in multiply\n",
      "  M = -(U * np.log(U))\n",
      "<ipython-input-1-68b283386728>:13: RuntimeWarning: divide by zero encountered in log\n",
      "  M = -(U * np.log(U))\n",
      "<ipython-input-1-68b283386728>:13: RuntimeWarning: invalid value encountered in multiply\n",
      "  M = -(U * np.log(U))\n",
      "<ipython-input-1-68b283386728>:13: RuntimeWarning: divide by zero encountered in log\n",
      "  M = -(U * np.log(U))\n",
      "<ipython-input-1-68b283386728>:13: RuntimeWarning: invalid value encountered in multiply\n",
      "  M = -(U * np.log(U))\n",
      "<ipython-input-1-68b283386728>:13: RuntimeWarning: divide by zero encountered in log\n",
      "  M = -(U * np.log(U))\n",
      "<ipython-input-1-68b283386728>:13: RuntimeWarning: invalid value encountered in multiply\n",
      "  M = -(U * np.log(U))\n",
      "<ipython-input-1-68b283386728>:13: RuntimeWarning: divide by zero encountered in log\n",
      "  M = -(U * np.log(U))\n",
      "<ipython-input-1-68b283386728>:13: RuntimeWarning: invalid value encountered in multiply\n",
      "  M = -(U * np.log(U))\n",
      "<ipython-input-1-68b283386728>:13: RuntimeWarning: divide by zero encountered in log\n",
      "  M = -(U * np.log(U))\n",
      "<ipython-input-1-68b283386728>:13: RuntimeWarning: invalid value encountered in multiply\n",
      "  M = -(U * np.log(U))\n",
      "<ipython-input-1-68b283386728>:13: RuntimeWarning: divide by zero encountered in log\n",
      "  M = -(U * np.log(U))\n",
      "<ipython-input-1-68b283386728>:13: RuntimeWarning: invalid value encountered in multiply\n",
      "  M = -(U * np.log(U))\n",
      "<ipython-input-1-68b283386728>:13: RuntimeWarning: divide by zero encountered in log\n",
      "  M = -(U * np.log(U))\n",
      "<ipython-input-1-68b283386728>:13: RuntimeWarning: invalid value encountered in multiply\n",
      "  M = -(U * np.log(U))\n",
      "<ipython-input-1-68b283386728>:13: RuntimeWarning: divide by zero encountered in log\n",
      "  M = -(U * np.log(U))\n",
      "<ipython-input-1-68b283386728>:13: RuntimeWarning: invalid value encountered in multiply\n",
      "  M = -(U * np.log(U))\n",
      "<ipython-input-1-68b283386728>:13: RuntimeWarning: divide by zero encountered in log\n",
      "  M = -(U * np.log(U))\n",
      "<ipython-input-1-68b283386728>:13: RuntimeWarning: invalid value encountered in multiply\n",
      "  M = -(U * np.log(U))\n",
      "<ipython-input-1-68b283386728>:13: RuntimeWarning: divide by zero encountered in log\n",
      "  M = -(U * np.log(U))\n",
      "<ipython-input-1-68b283386728>:13: RuntimeWarning: invalid value encountered in multiply\n",
      "  M = -(U * np.log(U))\n",
      "<ipython-input-1-68b283386728>:13: RuntimeWarning: divide by zero encountered in log\n",
      "  M = -(U * np.log(U))\n",
      "<ipython-input-1-68b283386728>:13: RuntimeWarning: invalid value encountered in multiply\n",
      "  M = -(U * np.log(U))\n",
      "<ipython-input-1-68b283386728>:13: RuntimeWarning: divide by zero encountered in log\n",
      "  M = -(U * np.log(U))\n",
      "<ipython-input-1-68b283386728>:13: RuntimeWarning: invalid value encountered in multiply\n",
      "  M = -(U * np.log(U))\n",
      "<ipython-input-1-68b283386728>:13: RuntimeWarning: divide by zero encountered in log\n",
      "  M = -(U * np.log(U))\n",
      "<ipython-input-1-68b283386728>:13: RuntimeWarning: invalid value encountered in multiply\n",
      "  M = -(U * np.log(U))\n",
      "<ipython-input-1-68b283386728>:13: RuntimeWarning: divide by zero encountered in log\n",
      "  M = -(U * np.log(U))\n",
      "<ipython-input-1-68b283386728>:13: RuntimeWarning: invalid value encountered in multiply\n",
      "  M = -(U * np.log(U))\n",
      "<ipython-input-1-68b283386728>:13: RuntimeWarning: divide by zero encountered in log\n",
      "  M = -(U * np.log(U))\n",
      "<ipython-input-1-68b283386728>:13: RuntimeWarning: invalid value encountered in multiply\n",
      "  M = -(U * np.log(U))\n",
      "<ipython-input-1-68b283386728>:13: RuntimeWarning: divide by zero encountered in log\n",
      "  M = -(U * np.log(U))\n",
      "<ipython-input-1-68b283386728>:13: RuntimeWarning: invalid value encountered in multiply\n",
      "  M = -(U * np.log(U))\n",
      "<ipython-input-1-68b283386728>:13: RuntimeWarning: divide by zero encountered in log\n",
      "  M = -(U * np.log(U))\n",
      "<ipython-input-1-68b283386728>:13: RuntimeWarning: invalid value encountered in multiply\n",
      "  M = -(U * np.log(U))\n",
      "<ipython-input-1-68b283386728>:13: RuntimeWarning: divide by zero encountered in log\n",
      "  M = -(U * np.log(U))\n",
      "<ipython-input-1-68b283386728>:13: RuntimeWarning: invalid value encountered in multiply\n",
      "  M = -(U * np.log(U))\n",
      "<ipython-input-1-68b283386728>:13: RuntimeWarning: divide by zero encountered in log\n",
      "  M = -(U * np.log(U))\n",
      "<ipython-input-1-68b283386728>:13: RuntimeWarning: invalid value encountered in multiply\n",
      "  M = -(U * np.log(U))\n",
      "<ipython-input-1-68b283386728>:13: RuntimeWarning: divide by zero encountered in log\n",
      "  M = -(U * np.log(U))\n",
      "<ipython-input-1-68b283386728>:13: RuntimeWarning: invalid value encountered in multiply\n",
      "  M = -(U * np.log(U))\n",
      "<ipython-input-1-68b283386728>:13: RuntimeWarning: divide by zero encountered in log\n",
      "  M = -(U * np.log(U))\n",
      "<ipython-input-1-68b283386728>:13: RuntimeWarning: invalid value encountered in multiply\n",
      "  M = -(U * np.log(U))\n",
      "<ipython-input-1-68b283386728>:13: RuntimeWarning: divide by zero encountered in log\n",
      "  M = -(U * np.log(U))\n",
      "<ipython-input-1-68b283386728>:13: RuntimeWarning: invalid value encountered in multiply\n",
      "  M = -(U * np.log(U))\n",
      "<ipython-input-1-68b283386728>:13: RuntimeWarning: divide by zero encountered in log\n",
      "  M = -(U * np.log(U))\n",
      "<ipython-input-1-68b283386728>:13: RuntimeWarning: invalid value encountered in multiply\n",
      "  M = -(U * np.log(U))\n",
      "<ipython-input-1-68b283386728>:13: RuntimeWarning: divide by zero encountered in log\n",
      "  M = -(U * np.log(U))\n",
      "<ipython-input-1-68b283386728>:13: RuntimeWarning: invalid value encountered in multiply\n",
      "  M = -(U * np.log(U))\n",
      "<ipython-input-1-68b283386728>:13: RuntimeWarning: divide by zero encountered in log\n",
      "  M = -(U * np.log(U))\n",
      "<ipython-input-1-68b283386728>:13: RuntimeWarning: invalid value encountered in multiply\n",
      "  M = -(U * np.log(U))\n",
      "<ipython-input-1-68b283386728>:13: RuntimeWarning: divide by zero encountered in log\n",
      "  M = -(U * np.log(U))\n",
      "<ipython-input-1-68b283386728>:13: RuntimeWarning: invalid value encountered in multiply\n",
      "  M = -(U * np.log(U))\n",
      "<ipython-input-1-68b283386728>:13: RuntimeWarning: divide by zero encountered in log\n",
      "  M = -(U * np.log(U))\n",
      "<ipython-input-1-68b283386728>:13: RuntimeWarning: invalid value encountered in multiply\n",
      "  M = -(U * np.log(U))\n",
      "<ipython-input-1-68b283386728>:13: RuntimeWarning: divide by zero encountered in log\n",
      "  M = -(U * np.log(U))\n",
      "<ipython-input-1-68b283386728>:13: RuntimeWarning: invalid value encountered in multiply\n",
      "  M = -(U * np.log(U))\n",
      "<ipython-input-1-68b283386728>:13: RuntimeWarning: divide by zero encountered in log\n",
      "  M = -(U * np.log(U))\n",
      "<ipython-input-1-68b283386728>:13: RuntimeWarning: invalid value encountered in multiply\n",
      "  M = -(U * np.log(U))\n",
      "<ipython-input-1-68b283386728>:13: RuntimeWarning: divide by zero encountered in log\n",
      "  M = -(U * np.log(U))\n",
      "<ipython-input-1-68b283386728>:13: RuntimeWarning: invalid value encountered in multiply\n",
      "  M = -(U * np.log(U))\n",
      "<ipython-input-1-68b283386728>:13: RuntimeWarning: divide by zero encountered in log\n",
      "  M = -(U * np.log(U))\n",
      "<ipython-input-1-68b283386728>:13: RuntimeWarning: invalid value encountered in multiply\n",
      "  M = -(U * np.log(U))\n",
      "<ipython-input-1-68b283386728>:13: RuntimeWarning: divide by zero encountered in log\n",
      "  M = -(U * np.log(U))\n",
      "<ipython-input-1-68b283386728>:13: RuntimeWarning: invalid value encountered in multiply\n",
      "  M = -(U * np.log(U))\n",
      "<ipython-input-1-68b283386728>:13: RuntimeWarning: divide by zero encountered in log\n",
      "  M = -(U * np.log(U))\n",
      "<ipython-input-1-68b283386728>:13: RuntimeWarning: invalid value encountered in multiply\n",
      "  M = -(U * np.log(U))\n",
      "<ipython-input-1-68b283386728>:13: RuntimeWarning: divide by zero encountered in log\n",
      "  M = -(U * np.log(U))\n",
      "<ipython-input-1-68b283386728>:13: RuntimeWarning: invalid value encountered in multiply\n",
      "  M = -(U * np.log(U))\n",
      "<ipython-input-1-68b283386728>:13: RuntimeWarning: divide by zero encountered in log\n",
      "  M = -(U * np.log(U))\n",
      "<ipython-input-1-68b283386728>:13: RuntimeWarning: invalid value encountered in multiply\n",
      "  M = -(U * np.log(U))\n",
      "<ipython-input-1-68b283386728>:13: RuntimeWarning: divide by zero encountered in log\n",
      "  M = -(U * np.log(U))\n",
      "<ipython-input-1-68b283386728>:13: RuntimeWarning: invalid value encountered in multiply\n",
      "  M = -(U * np.log(U))\n",
      "<ipython-input-1-68b283386728>:13: RuntimeWarning: divide by zero encountered in log\n",
      "  M = -(U * np.log(U))\n",
      "<ipython-input-1-68b283386728>:13: RuntimeWarning: invalid value encountered in multiply\n",
      "  M = -(U * np.log(U))\n",
      "<ipython-input-1-68b283386728>:13: RuntimeWarning: divide by zero encountered in log\n",
      "  M = -(U * np.log(U))\n",
      "<ipython-input-1-68b283386728>:13: RuntimeWarning: invalid value encountered in multiply\n",
      "  M = -(U * np.log(U))\n",
      "<ipython-input-1-68b283386728>:13: RuntimeWarning: divide by zero encountered in log\n",
      "  M = -(U * np.log(U))\n",
      "<ipython-input-1-68b283386728>:13: RuntimeWarning: invalid value encountered in multiply\n",
      "  M = -(U * np.log(U))\n",
      "<ipython-input-1-68b283386728>:13: RuntimeWarning: divide by zero encountered in log\n",
      "  M = -(U * np.log(U))\n",
      "<ipython-input-1-68b283386728>:13: RuntimeWarning: invalid value encountered in multiply\n",
      "  M = -(U * np.log(U))\n",
      "<ipython-input-1-68b283386728>:13: RuntimeWarning: divide by zero encountered in log\n",
      "  M = -(U * np.log(U))\n",
      "<ipython-input-1-68b283386728>:13: RuntimeWarning: invalid value encountered in multiply\n",
      "  M = -(U * np.log(U))\n",
      "<ipython-input-1-68b283386728>:13: RuntimeWarning: divide by zero encountered in log\n",
      "  M = -(U * np.log(U))\n",
      "<ipython-input-1-68b283386728>:13: RuntimeWarning: invalid value encountered in multiply\n",
      "  M = -(U * np.log(U))\n",
      "<ipython-input-1-68b283386728>:13: RuntimeWarning: divide by zero encountered in log\n",
      "  M = -(U * np.log(U))\n",
      "<ipython-input-1-68b283386728>:13: RuntimeWarning: invalid value encountered in multiply\n",
      "  M = -(U * np.log(U))\n",
      "<ipython-input-1-68b283386728>:13: RuntimeWarning: divide by zero encountered in log\n",
      "  M = -(U * np.log(U))\n",
      "<ipython-input-1-68b283386728>:13: RuntimeWarning: invalid value encountered in multiply\n",
      "  M = -(U * np.log(U))\n",
      "<ipython-input-1-68b283386728>:13: RuntimeWarning: divide by zero encountered in log\n",
      "  M = -(U * np.log(U))\n",
      "<ipython-input-1-68b283386728>:13: RuntimeWarning: invalid value encountered in multiply\n",
      "  M = -(U * np.log(U))\n",
      "<ipython-input-1-68b283386728>:13: RuntimeWarning: divide by zero encountered in log\n",
      "  M = -(U * np.log(U))\n",
      "<ipython-input-1-68b283386728>:13: RuntimeWarning: invalid value encountered in multiply\n",
      "  M = -(U * np.log(U))\n",
      "<ipython-input-1-68b283386728>:13: RuntimeWarning: divide by zero encountered in log\n",
      "  M = -(U * np.log(U))\n",
      "<ipython-input-1-68b283386728>:13: RuntimeWarning: invalid value encountered in multiply\n",
      "  M = -(U * np.log(U))\n",
      "<ipython-input-1-68b283386728>:13: RuntimeWarning: divide by zero encountered in log\n",
      "  M = -(U * np.log(U))\n",
      "<ipython-input-1-68b283386728>:13: RuntimeWarning: invalid value encountered in multiply\n",
      "  M = -(U * np.log(U))\n",
      "<ipython-input-1-68b283386728>:13: RuntimeWarning: divide by zero encountered in log\n",
      "  M = -(U * np.log(U))\n",
      "<ipython-input-1-68b283386728>:13: RuntimeWarning: invalid value encountered in multiply\n",
      "  M = -(U * np.log(U))\n",
      "<ipython-input-1-68b283386728>:13: RuntimeWarning: divide by zero encountered in log\n",
      "  M = -(U * np.log(U))\n",
      "<ipython-input-1-68b283386728>:13: RuntimeWarning: invalid value encountered in multiply\n",
      "  M = -(U * np.log(U))\n",
      "<ipython-input-1-68b283386728>:13: RuntimeWarning: divide by zero encountered in log\n",
      "  M = -(U * np.log(U))\n",
      "<ipython-input-1-68b283386728>:13: RuntimeWarning: invalid value encountered in multiply\n",
      "  M = -(U * np.log(U))\n",
      "<ipython-input-1-68b283386728>:13: RuntimeWarning: divide by zero encountered in log\n",
      "  M = -(U * np.log(U))\n",
      "<ipython-input-1-68b283386728>:13: RuntimeWarning: invalid value encountered in multiply\n",
      "  M = -(U * np.log(U))\n",
      "<ipython-input-1-68b283386728>:13: RuntimeWarning: divide by zero encountered in log\n",
      "  M = -(U * np.log(U))\n",
      "<ipython-input-1-68b283386728>:13: RuntimeWarning: invalid value encountered in multiply\n",
      "  M = -(U * np.log(U))\n",
      "<ipython-input-1-68b283386728>:13: RuntimeWarning: divide by zero encountered in log\n",
      "  M = -(U * np.log(U))\n",
      "<ipython-input-1-68b283386728>:13: RuntimeWarning: invalid value encountered in multiply\n",
      "  M = -(U * np.log(U))\n",
      "<ipython-input-1-68b283386728>:13: RuntimeWarning: divide by zero encountered in log\n",
      "  M = -(U * np.log(U))\n",
      "<ipython-input-1-68b283386728>:13: RuntimeWarning: invalid value encountered in multiply\n",
      "  M = -(U * np.log(U))\n",
      "<ipython-input-1-68b283386728>:13: RuntimeWarning: divide by zero encountered in log\n",
      "  M = -(U * np.log(U))\n",
      "<ipython-input-1-68b283386728>:13: RuntimeWarning: invalid value encountered in multiply\n",
      "  M = -(U * np.log(U))\n",
      "<ipython-input-1-68b283386728>:13: RuntimeWarning: divide by zero encountered in log\n",
      "  M = -(U * np.log(U))\n",
      "<ipython-input-1-68b283386728>:13: RuntimeWarning: invalid value encountered in multiply\n",
      "  M = -(U * np.log(U))\n",
      "<ipython-input-1-68b283386728>:13: RuntimeWarning: divide by zero encountered in log\n",
      "  M = -(U * np.log(U))\n",
      "<ipython-input-1-68b283386728>:13: RuntimeWarning: invalid value encountered in multiply\n",
      "  M = -(U * np.log(U))\n",
      "<ipython-input-1-68b283386728>:13: RuntimeWarning: divide by zero encountered in log\n",
      "  M = -(U * np.log(U))\n",
      "<ipython-input-1-68b283386728>:13: RuntimeWarning: invalid value encountered in multiply\n",
      "  M = -(U * np.log(U))\n",
      "<ipython-input-1-68b283386728>:13: RuntimeWarning: divide by zero encountered in log\n",
      "  M = -(U * np.log(U))\n",
      "<ipython-input-1-68b283386728>:13: RuntimeWarning: invalid value encountered in multiply\n",
      "  M = -(U * np.log(U))\n",
      "<ipython-input-1-68b283386728>:13: RuntimeWarning: divide by zero encountered in log\n",
      "  M = -(U * np.log(U))\n",
      "<ipython-input-1-68b283386728>:13: RuntimeWarning: invalid value encountered in multiply\n",
      "  M = -(U * np.log(U))\n",
      "<ipython-input-1-68b283386728>:13: RuntimeWarning: divide by zero encountered in log\n",
      "  M = -(U * np.log(U))\n",
      "<ipython-input-1-68b283386728>:13: RuntimeWarning: invalid value encountered in multiply\n",
      "  M = -(U * np.log(U))\n",
      "<ipython-input-1-68b283386728>:13: RuntimeWarning: divide by zero encountered in log\n",
      "  M = -(U * np.log(U))\n",
      "<ipython-input-1-68b283386728>:13: RuntimeWarning: invalid value encountered in multiply\n",
      "  M = -(U * np.log(U))\n",
      "<ipython-input-1-68b283386728>:13: RuntimeWarning: divide by zero encountered in log\n",
      "  M = -(U * np.log(U))\n",
      "<ipython-input-1-68b283386728>:13: RuntimeWarning: invalid value encountered in multiply\n",
      "  M = -(U * np.log(U))\n",
      "<ipython-input-1-68b283386728>:13: RuntimeWarning: divide by zero encountered in log\n",
      "  M = -(U * np.log(U))\n",
      "<ipython-input-1-68b283386728>:13: RuntimeWarning: invalid value encountered in multiply\n",
      "  M = -(U * np.log(U))\n",
      "<ipython-input-1-68b283386728>:13: RuntimeWarning: divide by zero encountered in log\n",
      "  M = -(U * np.log(U))\n",
      "<ipython-input-1-68b283386728>:13: RuntimeWarning: invalid value encountered in multiply\n",
      "  M = -(U * np.log(U))\n",
      "<ipython-input-1-68b283386728>:13: RuntimeWarning: divide by zero encountered in log\n",
      "  M = -(U * np.log(U))\n",
      "<ipython-input-1-68b283386728>:13: RuntimeWarning: invalid value encountered in multiply\n",
      "  M = -(U * np.log(U))\n",
      "<ipython-input-1-68b283386728>:13: RuntimeWarning: divide by zero encountered in log\n",
      "  M = -(U * np.log(U))\n",
      "<ipython-input-1-68b283386728>:13: RuntimeWarning: invalid value encountered in multiply\n",
      "  M = -(U * np.log(U))\n",
      "<ipython-input-1-68b283386728>:13: RuntimeWarning: divide by zero encountered in log\n",
      "  M = -(U * np.log(U))\n",
      "<ipython-input-1-68b283386728>:13: RuntimeWarning: invalid value encountered in multiply\n",
      "  M = -(U * np.log(U))\n",
      "<ipython-input-1-68b283386728>:13: RuntimeWarning: divide by zero encountered in log\n",
      "  M = -(U * np.log(U))\n",
      "<ipython-input-1-68b283386728>:13: RuntimeWarning: invalid value encountered in multiply\n",
      "  M = -(U * np.log(U))\n",
      "<ipython-input-1-68b283386728>:13: RuntimeWarning: divide by zero encountered in log\n",
      "  M = -(U * np.log(U))\n",
      "<ipython-input-1-68b283386728>:13: RuntimeWarning: invalid value encountered in multiply\n",
      "  M = -(U * np.log(U))\n",
      "<ipython-input-1-68b283386728>:13: RuntimeWarning: divide by zero encountered in log\n",
      "  M = -(U * np.log(U))\n",
      "<ipython-input-1-68b283386728>:13: RuntimeWarning: invalid value encountered in multiply\n",
      "  M = -(U * np.log(U))\n",
      "<ipython-input-1-68b283386728>:13: RuntimeWarning: divide by zero encountered in log\n",
      "  M = -(U * np.log(U))\n",
      "<ipython-input-1-68b283386728>:13: RuntimeWarning: invalid value encountered in multiply\n",
      "  M = -(U * np.log(U))\n",
      "<ipython-input-1-68b283386728>:13: RuntimeWarning: divide by zero encountered in log\n",
      "  M = -(U * np.log(U))\n",
      "<ipython-input-1-68b283386728>:13: RuntimeWarning: invalid value encountered in multiply\n",
      "  M = -(U * np.log(U))\n",
      "<ipython-input-1-68b283386728>:13: RuntimeWarning: divide by zero encountered in log\n",
      "  M = -(U * np.log(U))\n",
      "<ipython-input-1-68b283386728>:13: RuntimeWarning: invalid value encountered in multiply\n",
      "  M = -(U * np.log(U))\n",
      "<ipython-input-1-68b283386728>:13: RuntimeWarning: divide by zero encountered in log\n",
      "  M = -(U * np.log(U))\n",
      "<ipython-input-1-68b283386728>:13: RuntimeWarning: invalid value encountered in multiply\n",
      "  M = -(U * np.log(U))\n",
      "<ipython-input-1-68b283386728>:13: RuntimeWarning: divide by zero encountered in log\n",
      "  M = -(U * np.log(U))\n",
      "<ipython-input-1-68b283386728>:13: RuntimeWarning: invalid value encountered in multiply\n",
      "  M = -(U * np.log(U))\n",
      "<ipython-input-1-68b283386728>:13: RuntimeWarning: divide by zero encountered in log\n",
      "  M = -(U * np.log(U))\n",
      "<ipython-input-1-68b283386728>:13: RuntimeWarning: invalid value encountered in multiply\n",
      "  M = -(U * np.log(U))\n",
      "<ipython-input-1-68b283386728>:13: RuntimeWarning: divide by zero encountered in log\n",
      "  M = -(U * np.log(U))\n",
      "<ipython-input-1-68b283386728>:13: RuntimeWarning: invalid value encountered in multiply\n",
      "  M = -(U * np.log(U))\n",
      "<ipython-input-1-68b283386728>:13: RuntimeWarning: divide by zero encountered in log\n",
      "  M = -(U * np.log(U))\n",
      "<ipython-input-1-68b283386728>:13: RuntimeWarning: invalid value encountered in multiply\n",
      "  M = -(U * np.log(U))\n",
      "<ipython-input-1-68b283386728>:13: RuntimeWarning: divide by zero encountered in log\n",
      "  M = -(U * np.log(U))\n",
      "<ipython-input-1-68b283386728>:13: RuntimeWarning: invalid value encountered in multiply\n",
      "  M = -(U * np.log(U))\n",
      "<ipython-input-1-68b283386728>:13: RuntimeWarning: divide by zero encountered in log\n",
      "  M = -(U * np.log(U))\n",
      "<ipython-input-1-68b283386728>:13: RuntimeWarning: invalid value encountered in multiply\n",
      "  M = -(U * np.log(U))\n",
      "<ipython-input-1-68b283386728>:13: RuntimeWarning: divide by zero encountered in log\n",
      "  M = -(U * np.log(U))\n",
      "<ipython-input-1-68b283386728>:13: RuntimeWarning: invalid value encountered in multiply\n",
      "  M = -(U * np.log(U))\n",
      "<ipython-input-1-68b283386728>:13: RuntimeWarning: divide by zero encountered in log\n",
      "  M = -(U * np.log(U))\n",
      "<ipython-input-1-68b283386728>:13: RuntimeWarning: invalid value encountered in multiply\n",
      "  M = -(U * np.log(U))\n",
      "<ipython-input-1-68b283386728>:13: RuntimeWarning: divide by zero encountered in log\n",
      "  M = -(U * np.log(U))\n",
      "<ipython-input-1-68b283386728>:13: RuntimeWarning: invalid value encountered in multiply\n",
      "  M = -(U * np.log(U))\n",
      "<ipython-input-1-68b283386728>:13: RuntimeWarning: divide by zero encountered in log\n",
      "  M = -(U * np.log(U))\n",
      "<ipython-input-1-68b283386728>:13: RuntimeWarning: invalid value encountered in multiply\n",
      "  M = -(U * np.log(U))\n",
      "<ipython-input-1-68b283386728>:13: RuntimeWarning: divide by zero encountered in log\n",
      "  M = -(U * np.log(U))\n",
      "<ipython-input-1-68b283386728>:13: RuntimeWarning: invalid value encountered in multiply\n",
      "  M = -(U * np.log(U))\n",
      "<ipython-input-1-68b283386728>:13: RuntimeWarning: divide by zero encountered in log\n",
      "  M = -(U * np.log(U))\n",
      "<ipython-input-1-68b283386728>:13: RuntimeWarning: invalid value encountered in multiply\n",
      "  M = -(U * np.log(U))\n",
      "<ipython-input-1-68b283386728>:13: RuntimeWarning: divide by zero encountered in log\n",
      "  M = -(U * np.log(U))\n",
      "<ipython-input-1-68b283386728>:13: RuntimeWarning: invalid value encountered in multiply\n",
      "  M = -(U * np.log(U))\n",
      "<ipython-input-1-68b283386728>:13: RuntimeWarning: divide by zero encountered in log\n",
      "  M = -(U * np.log(U))\n",
      "<ipython-input-1-68b283386728>:13: RuntimeWarning: invalid value encountered in multiply\n",
      "  M = -(U * np.log(U))\n",
      "<ipython-input-1-68b283386728>:13: RuntimeWarning: divide by zero encountered in log\n",
      "  M = -(U * np.log(U))\n",
      "<ipython-input-1-68b283386728>:13: RuntimeWarning: invalid value encountered in multiply\n",
      "  M = -(U * np.log(U))\n",
      "<ipython-input-1-68b283386728>:13: RuntimeWarning: divide by zero encountered in log\n",
      "  M = -(U * np.log(U))\n",
      "<ipython-input-1-68b283386728>:13: RuntimeWarning: invalid value encountered in multiply\n",
      "  M = -(U * np.log(U))\n",
      "<ipython-input-1-68b283386728>:13: RuntimeWarning: divide by zero encountered in log\n",
      "  M = -(U * np.log(U))\n",
      "<ipython-input-1-68b283386728>:13: RuntimeWarning: invalid value encountered in multiply\n",
      "  M = -(U * np.log(U))\n",
      "<ipython-input-1-68b283386728>:13: RuntimeWarning: divide by zero encountered in log\n",
      "  M = -(U * np.log(U))\n",
      "<ipython-input-1-68b283386728>:13: RuntimeWarning: invalid value encountered in multiply\n",
      "  M = -(U * np.log(U))\n",
      "<ipython-input-1-68b283386728>:13: RuntimeWarning: divide by zero encountered in log\n",
      "  M = -(U * np.log(U))\n",
      "<ipython-input-1-68b283386728>:13: RuntimeWarning: invalid value encountered in multiply\n",
      "  M = -(U * np.log(U))\n",
      "<ipython-input-1-68b283386728>:13: RuntimeWarning: divide by zero encountered in log\n",
      "  M = -(U * np.log(U))\n",
      "<ipython-input-1-68b283386728>:13: RuntimeWarning: invalid value encountered in multiply\n",
      "  M = -(U * np.log(U))\n",
      "<ipython-input-1-68b283386728>:13: RuntimeWarning: divide by zero encountered in log\n",
      "  M = -(U * np.log(U))\n",
      "<ipython-input-1-68b283386728>:13: RuntimeWarning: invalid value encountered in multiply\n",
      "  M = -(U * np.log(U))\n",
      "<ipython-input-1-68b283386728>:13: RuntimeWarning: divide by zero encountered in log\n",
      "  M = -(U * np.log(U))\n",
      "<ipython-input-1-68b283386728>:13: RuntimeWarning: invalid value encountered in multiply\n",
      "  M = -(U * np.log(U))\n",
      "<ipython-input-1-68b283386728>:13: RuntimeWarning: divide by zero encountered in log\n",
      "  M = -(U * np.log(U))\n",
      "<ipython-input-1-68b283386728>:13: RuntimeWarning: invalid value encountered in multiply\n",
      "  M = -(U * np.log(U))\n",
      "<ipython-input-1-68b283386728>:13: RuntimeWarning: divide by zero encountered in log\n",
      "  M = -(U * np.log(U))\n",
      "<ipython-input-1-68b283386728>:13: RuntimeWarning: invalid value encountered in multiply\n",
      "  M = -(U * np.log(U))\n",
      "<ipython-input-1-68b283386728>:13: RuntimeWarning: divide by zero encountered in log\n",
      "  M = -(U * np.log(U))\n",
      "<ipython-input-1-68b283386728>:13: RuntimeWarning: invalid value encountered in multiply\n",
      "  M = -(U * np.log(U))\n",
      "<ipython-input-1-68b283386728>:13: RuntimeWarning: divide by zero encountered in log\n",
      "  M = -(U * np.log(U))\n",
      "<ipython-input-1-68b283386728>:13: RuntimeWarning: invalid value encountered in multiply\n",
      "  M = -(U * np.log(U))\n",
      "<ipython-input-1-68b283386728>:13: RuntimeWarning: divide by zero encountered in log\n",
      "  M = -(U * np.log(U))\n",
      "<ipython-input-1-68b283386728>:13: RuntimeWarning: invalid value encountered in multiply\n",
      "  M = -(U * np.log(U))\n",
      "<ipython-input-1-68b283386728>:13: RuntimeWarning: divide by zero encountered in log\n",
      "  M = -(U * np.log(U))\n",
      "<ipython-input-1-68b283386728>:13: RuntimeWarning: invalid value encountered in multiply\n",
      "  M = -(U * np.log(U))\n",
      "<ipython-input-1-68b283386728>:13: RuntimeWarning: divide by zero encountered in log\n",
      "  M = -(U * np.log(U))\n",
      "<ipython-input-1-68b283386728>:13: RuntimeWarning: invalid value encountered in multiply\n",
      "  M = -(U * np.log(U))\n",
      "<ipython-input-1-68b283386728>:13: RuntimeWarning: divide by zero encountered in log\n",
      "  M = -(U * np.log(U))\n",
      "<ipython-input-1-68b283386728>:13: RuntimeWarning: invalid value encountered in multiply\n",
      "  M = -(U * np.log(U))\n",
      "<ipython-input-1-68b283386728>:13: RuntimeWarning: divide by zero encountered in log\n",
      "  M = -(U * np.log(U))\n",
      "<ipython-input-1-68b283386728>:13: RuntimeWarning: invalid value encountered in multiply\n",
      "  M = -(U * np.log(U))\n",
      "<ipython-input-1-68b283386728>:13: RuntimeWarning: divide by zero encountered in log\n",
      "  M = -(U * np.log(U))\n",
      "<ipython-input-1-68b283386728>:13: RuntimeWarning: invalid value encountered in multiply\n",
      "  M = -(U * np.log(U))\n",
      "<ipython-input-1-68b283386728>:13: RuntimeWarning: divide by zero encountered in log\n",
      "  M = -(U * np.log(U))\n",
      "<ipython-input-1-68b283386728>:13: RuntimeWarning: invalid value encountered in multiply\n",
      "  M = -(U * np.log(U))\n",
      "<ipython-input-1-68b283386728>:13: RuntimeWarning: divide by zero encountered in log\n",
      "  M = -(U * np.log(U))\n",
      "<ipython-input-1-68b283386728>:13: RuntimeWarning: invalid value encountered in multiply\n",
      "  M = -(U * np.log(U))\n",
      "<ipython-input-1-68b283386728>:13: RuntimeWarning: divide by zero encountered in log\n",
      "  M = -(U * np.log(U))\n",
      "<ipython-input-1-68b283386728>:13: RuntimeWarning: invalid value encountered in multiply\n",
      "  M = -(U * np.log(U))\n",
      "<ipython-input-1-68b283386728>:13: RuntimeWarning: divide by zero encountered in log\n",
      "  M = -(U * np.log(U))\n",
      "<ipython-input-1-68b283386728>:13: RuntimeWarning: invalid value encountered in multiply\n",
      "  M = -(U * np.log(U))\n",
      "<ipython-input-1-68b283386728>:13: RuntimeWarning: divide by zero encountered in log\n",
      "  M = -(U * np.log(U))\n",
      "<ipython-input-1-68b283386728>:13: RuntimeWarning: invalid value encountered in multiply\n",
      "  M = -(U * np.log(U))\n",
      "<ipython-input-1-68b283386728>:13: RuntimeWarning: divide by zero encountered in log\n",
      "  M = -(U * np.log(U))\n",
      "<ipython-input-1-68b283386728>:13: RuntimeWarning: invalid value encountered in multiply\n",
      "  M = -(U * np.log(U))\n"
     ]
    }
   ],
   "metadata": {
    "tags": [
     "outputPrepend"
    ]
   }
  },
  {
   "cell_type": "markdown",
   "source": [
    "#### Modified Partition Coefficient"
   ],
   "metadata": {}
  },
  {
   "cell_type": "code",
   "execution_count": 21,
   "source": [
    "mpc.describe(percentiles=[0.5])"
   ],
   "outputs": [
    {
     "output_type": "execute_result",
     "data": {
      "text/plain": [
       "         m = 1.0001     m = 1.1     m = 1.6     m = 2.0\n",
       "count  1.000000e+02  100.000000  100.000000  100.000000\n",
       "mean   9.999999e-01    0.992000    0.934797    0.900025\n",
       "std    6.380026e-07    0.017131    0.130904    0.162787\n",
       "min    9.999957e-01    0.927263    0.493110    0.371550\n",
       "50%    1.000000e+00    0.999995    0.997440    0.991815\n",
       "max    1.000000e+00    1.000000    1.000000    0.999957"
      ],
      "text/html": [
       "<div>\n",
       "<style scoped>\n",
       "    .dataframe tbody tr th:only-of-type {\n",
       "        vertical-align: middle;\n",
       "    }\n",
       "\n",
       "    .dataframe tbody tr th {\n",
       "        vertical-align: top;\n",
       "    }\n",
       "\n",
       "    .dataframe thead th {\n",
       "        text-align: right;\n",
       "    }\n",
       "</style>\n",
       "<table border=\"1\" class=\"dataframe\">\n",
       "  <thead>\n",
       "    <tr style=\"text-align: right;\">\n",
       "      <th></th>\n",
       "      <th>m = 1.0001</th>\n",
       "      <th>m = 1.1</th>\n",
       "      <th>m = 1.6</th>\n",
       "      <th>m = 2.0</th>\n",
       "    </tr>\n",
       "  </thead>\n",
       "  <tbody>\n",
       "    <tr>\n",
       "      <th>count</th>\n",
       "      <td>1.000000e+02</td>\n",
       "      <td>100.000000</td>\n",
       "      <td>100.000000</td>\n",
       "      <td>100.000000</td>\n",
       "    </tr>\n",
       "    <tr>\n",
       "      <th>mean</th>\n",
       "      <td>9.999999e-01</td>\n",
       "      <td>0.992000</td>\n",
       "      <td>0.934797</td>\n",
       "      <td>0.900025</td>\n",
       "    </tr>\n",
       "    <tr>\n",
       "      <th>std</th>\n",
       "      <td>6.380026e-07</td>\n",
       "      <td>0.017131</td>\n",
       "      <td>0.130904</td>\n",
       "      <td>0.162787</td>\n",
       "    </tr>\n",
       "    <tr>\n",
       "      <th>min</th>\n",
       "      <td>9.999957e-01</td>\n",
       "      <td>0.927263</td>\n",
       "      <td>0.493110</td>\n",
       "      <td>0.371550</td>\n",
       "    </tr>\n",
       "    <tr>\n",
       "      <th>50%</th>\n",
       "      <td>1.000000e+00</td>\n",
       "      <td>0.999995</td>\n",
       "      <td>0.997440</td>\n",
       "      <td>0.991815</td>\n",
       "    </tr>\n",
       "    <tr>\n",
       "      <th>max</th>\n",
       "      <td>1.000000e+00</td>\n",
       "      <td>1.000000</td>\n",
       "      <td>1.000000</td>\n",
       "      <td>0.999957</td>\n",
       "    </tr>\n",
       "  </tbody>\n",
       "</table>\n",
       "</div>"
      ]
     },
     "metadata": {},
     "execution_count": 21
    }
   ],
   "metadata": {}
  },
  {
   "cell_type": "code",
   "execution_count": 22,
   "source": [
    "mcp1 = mpc.iloc[:,0].to_numpy()\n",
    "mcp2 = mpc.iloc[:,1].to_numpy()\n",
    "mcp3 = mpc.iloc[:,2].to_numpy()\n",
    "mcp4 = mpc.iloc[:,3].to_numpy()\n",
    "friedmanchisquare(mcp1, mcp2, mcp3, mcp4)"
   ],
   "outputs": [
    {
     "output_type": "execute_result",
     "data": {
      "text/plain": [
       "FriedmanchisquareResult(statistic=186.0482897384306, pvalue=4.357083447710202e-40)"
      ]
     },
     "metadata": {},
     "execution_count": 22
    }
   ],
   "metadata": {}
  },
  {
   "cell_type": "code",
   "execution_count": 33,
   "source": [
    "posthoc_nemenyi_friedman(mpc)"
   ],
   "outputs": [
    {
     "output_type": "execute_result",
     "data": {
      "text/plain": [
       "            m = 1.0001  m = 1.1   m = 1.6   m = 2.0\n",
       "m = 1.0001       1.000    0.001  0.001000  0.001000\n",
       "m = 1.1          0.001    1.000  0.001000  0.001000\n",
       "m = 1.6          0.001    0.001  1.000000  0.141637\n",
       "m = 2.0          0.001    0.001  0.141637  1.000000"
      ],
      "text/html": [
       "<div>\n",
       "<style scoped>\n",
       "    .dataframe tbody tr th:only-of-type {\n",
       "        vertical-align: middle;\n",
       "    }\n",
       "\n",
       "    .dataframe tbody tr th {\n",
       "        vertical-align: top;\n",
       "    }\n",
       "\n",
       "    .dataframe thead th {\n",
       "        text-align: right;\n",
       "    }\n",
       "</style>\n",
       "<table border=\"1\" class=\"dataframe\">\n",
       "  <thead>\n",
       "    <tr style=\"text-align: right;\">\n",
       "      <th></th>\n",
       "      <th>m = 1.0001</th>\n",
       "      <th>m = 1.1</th>\n",
       "      <th>m = 1.6</th>\n",
       "      <th>m = 2.0</th>\n",
       "    </tr>\n",
       "  </thead>\n",
       "  <tbody>\n",
       "    <tr>\n",
       "      <th>m = 1.0001</th>\n",
       "      <td>1.000</td>\n",
       "      <td>0.001</td>\n",
       "      <td>0.001000</td>\n",
       "      <td>0.001000</td>\n",
       "    </tr>\n",
       "    <tr>\n",
       "      <th>m = 1.1</th>\n",
       "      <td>0.001</td>\n",
       "      <td>1.000</td>\n",
       "      <td>0.001000</td>\n",
       "      <td>0.001000</td>\n",
       "    </tr>\n",
       "    <tr>\n",
       "      <th>m = 1.6</th>\n",
       "      <td>0.001</td>\n",
       "      <td>0.001</td>\n",
       "      <td>1.000000</td>\n",
       "      <td>0.141637</td>\n",
       "    </tr>\n",
       "    <tr>\n",
       "      <th>m = 2.0</th>\n",
       "      <td>0.001</td>\n",
       "      <td>0.001</td>\n",
       "      <td>0.141637</td>\n",
       "      <td>1.000000</td>\n",
       "    </tr>\n",
       "  </tbody>\n",
       "</table>\n",
       "</div>"
      ]
     },
     "metadata": {},
     "execution_count": 33
    }
   ],
   "metadata": {}
  },
  {
   "cell_type": "markdown",
   "source": [
    "#### Partition Entropy Coefficient\n",
    " "
   ],
   "metadata": {}
  },
  {
   "cell_type": "code",
   "execution_count": 102,
   "source": [
    "pec.describe(percentiles=[0.5])"
   ],
   "outputs": [
    {
     "output_type": "execute_result",
     "data": {
      "text/plain": [
       "         m = 1.0001       m = 1.1       m = 1.6     m = 2.0\n",
       "count  1.000000e+02  1.000000e+02  1.000000e+02  100.000000\n",
       "mean   5.176855e-07  1.206835e-02  9.943262e-02    0.163158\n",
       "std    2.057529e-06  2.576309e-02  1.896098e-01    0.247901\n",
       "min    0.000000e+00  5.764894e-57  1.927526e-08    0.000179\n",
       "50%    6.934545e-14  1.583244e-05  4.179736e-03    0.023989\n",
       "max    1.330245e-05  1.072814e-01  7.650284e-01    0.995379"
      ],
      "text/html": [
       "<div>\n",
       "<style scoped>\n",
       "    .dataframe tbody tr th:only-of-type {\n",
       "        vertical-align: middle;\n",
       "    }\n",
       "\n",
       "    .dataframe tbody tr th {\n",
       "        vertical-align: top;\n",
       "    }\n",
       "\n",
       "    .dataframe thead th {\n",
       "        text-align: right;\n",
       "    }\n",
       "</style>\n",
       "<table border=\"1\" class=\"dataframe\">\n",
       "  <thead>\n",
       "    <tr style=\"text-align: right;\">\n",
       "      <th></th>\n",
       "      <th>m = 1.0001</th>\n",
       "      <th>m = 1.1</th>\n",
       "      <th>m = 1.6</th>\n",
       "      <th>m = 2.0</th>\n",
       "    </tr>\n",
       "  </thead>\n",
       "  <tbody>\n",
       "    <tr>\n",
       "      <th>count</th>\n",
       "      <td>1.000000e+02</td>\n",
       "      <td>1.000000e+02</td>\n",
       "      <td>1.000000e+02</td>\n",
       "      <td>100.000000</td>\n",
       "    </tr>\n",
       "    <tr>\n",
       "      <th>mean</th>\n",
       "      <td>5.176855e-07</td>\n",
       "      <td>1.206835e-02</td>\n",
       "      <td>9.943262e-02</td>\n",
       "      <td>0.163158</td>\n",
       "    </tr>\n",
       "    <tr>\n",
       "      <th>std</th>\n",
       "      <td>2.057529e-06</td>\n",
       "      <td>2.576309e-02</td>\n",
       "      <td>1.896098e-01</td>\n",
       "      <td>0.247901</td>\n",
       "    </tr>\n",
       "    <tr>\n",
       "      <th>min</th>\n",
       "      <td>0.000000e+00</td>\n",
       "      <td>5.764894e-57</td>\n",
       "      <td>1.927526e-08</td>\n",
       "      <td>0.000179</td>\n",
       "    </tr>\n",
       "    <tr>\n",
       "      <th>50%</th>\n",
       "      <td>6.934545e-14</td>\n",
       "      <td>1.583244e-05</td>\n",
       "      <td>4.179736e-03</td>\n",
       "      <td>0.023989</td>\n",
       "    </tr>\n",
       "    <tr>\n",
       "      <th>max</th>\n",
       "      <td>1.330245e-05</td>\n",
       "      <td>1.072814e-01</td>\n",
       "      <td>7.650284e-01</td>\n",
       "      <td>0.995379</td>\n",
       "    </tr>\n",
       "  </tbody>\n",
       "</table>\n",
       "</div>"
      ]
     },
     "metadata": {},
     "execution_count": 102
    }
   ],
   "metadata": {}
  },
  {
   "cell_type": "code",
   "execution_count": 117,
   "source": [
    "pec1 = pec.iloc[:,0].to_numpy()\n",
    "pec2 = pec.iloc[:,1].to_numpy()\n",
    "pec3 = pec.iloc[:,2].to_numpy()\n",
    "pec4 = pec.iloc[:,3].to_numpy()\n",
    "friedmanchisquare(pec1, pec2, pec3, pec4)"
   ],
   "outputs": [
    {
     "output_type": "execute_result",
     "data": {
      "text/plain": [
       "FriedmanchisquareResult(statistic=187.164, pvalue=2.501537941281148e-40)"
      ]
     },
     "metadata": {},
     "execution_count": 117
    }
   ],
   "metadata": {}
  },
  {
   "cell_type": "code",
   "execution_count": 118,
   "source": [
    "posthoc_nemenyi_friedman(pec)"
   ],
   "outputs": [
    {
     "output_type": "execute_result",
     "data": {
      "text/plain": [
       "            m = 1.0001  m = 1.1   m = 1.6   m = 2.0\n",
       "m = 1.0001       1.000    0.001  0.001000  0.001000\n",
       "m = 1.1          0.001    1.000  0.001000  0.001000\n",
       "m = 1.6          0.001    0.001  1.000000  0.065622\n",
       "m = 2.0          0.001    0.001  0.065622  1.000000"
      ],
      "text/html": [
       "<div>\n",
       "<style scoped>\n",
       "    .dataframe tbody tr th:only-of-type {\n",
       "        vertical-align: middle;\n",
       "    }\n",
       "\n",
       "    .dataframe tbody tr th {\n",
       "        vertical-align: top;\n",
       "    }\n",
       "\n",
       "    .dataframe thead th {\n",
       "        text-align: right;\n",
       "    }\n",
       "</style>\n",
       "<table border=\"1\" class=\"dataframe\">\n",
       "  <thead>\n",
       "    <tr style=\"text-align: right;\">\n",
       "      <th></th>\n",
       "      <th>m = 1.0001</th>\n",
       "      <th>m = 1.1</th>\n",
       "      <th>m = 1.6</th>\n",
       "      <th>m = 2.0</th>\n",
       "    </tr>\n",
       "  </thead>\n",
       "  <tbody>\n",
       "    <tr>\n",
       "      <th>m = 1.0001</th>\n",
       "      <td>1.000</td>\n",
       "      <td>0.001</td>\n",
       "      <td>0.001000</td>\n",
       "      <td>0.001000</td>\n",
       "    </tr>\n",
       "    <tr>\n",
       "      <th>m = 1.1</th>\n",
       "      <td>0.001</td>\n",
       "      <td>1.000</td>\n",
       "      <td>0.001000</td>\n",
       "      <td>0.001000</td>\n",
       "    </tr>\n",
       "    <tr>\n",
       "      <th>m = 1.6</th>\n",
       "      <td>0.001</td>\n",
       "      <td>0.001</td>\n",
       "      <td>1.000000</td>\n",
       "      <td>0.065622</td>\n",
       "    </tr>\n",
       "    <tr>\n",
       "      <th>m = 2.0</th>\n",
       "      <td>0.001</td>\n",
       "      <td>0.001</td>\n",
       "      <td>0.065622</td>\n",
       "      <td>1.000000</td>\n",
       "    </tr>\n",
       "  </tbody>\n",
       "</table>\n",
       "</div>"
      ]
     },
     "metadata": {},
     "execution_count": 118
    }
   ],
   "metadata": {}
  },
  {
   "cell_type": "markdown",
   "source": [
    "#### Adjusted Rand Index"
   ],
   "metadata": {}
  },
  {
   "cell_type": "code",
   "execution_count": 104,
   "source": [
    "round(ari.describe(percentiles=[0.5]),4)"
   ],
   "outputs": [
    {
     "output_type": "execute_result",
     "data": {
      "text/plain": [
       "       m = 1.0001   m = 1.1   m = 1.6   m = 2.0\n",
       "count    100.0000  100.0000  100.0000  100.0000\n",
       "mean       0.1675    0.0173    0.0175    0.0132\n",
       "std        0.0205    0.0259    0.0232    0.0123\n",
       "min        0.0030   -0.0148   -0.0114   -0.0090\n",
       "50%        0.1675    0.0113    0.0116    0.0116\n",
       "max        0.2174    0.1398    0.1003    0.1043"
      ],
      "text/html": [
       "<div>\n",
       "<style scoped>\n",
       "    .dataframe tbody tr th:only-of-type {\n",
       "        vertical-align: middle;\n",
       "    }\n",
       "\n",
       "    .dataframe tbody tr th {\n",
       "        vertical-align: top;\n",
       "    }\n",
       "\n",
       "    .dataframe thead th {\n",
       "        text-align: right;\n",
       "    }\n",
       "</style>\n",
       "<table border=\"1\" class=\"dataframe\">\n",
       "  <thead>\n",
       "    <tr style=\"text-align: right;\">\n",
       "      <th></th>\n",
       "      <th>m = 1.0001</th>\n",
       "      <th>m = 1.1</th>\n",
       "      <th>m = 1.6</th>\n",
       "      <th>m = 2.0</th>\n",
       "    </tr>\n",
       "  </thead>\n",
       "  <tbody>\n",
       "    <tr>\n",
       "      <th>count</th>\n",
       "      <td>100.0000</td>\n",
       "      <td>100.0000</td>\n",
       "      <td>100.0000</td>\n",
       "      <td>100.0000</td>\n",
       "    </tr>\n",
       "    <tr>\n",
       "      <th>mean</th>\n",
       "      <td>0.1675</td>\n",
       "      <td>0.0173</td>\n",
       "      <td>0.0175</td>\n",
       "      <td>0.0132</td>\n",
       "    </tr>\n",
       "    <tr>\n",
       "      <th>std</th>\n",
       "      <td>0.0205</td>\n",
       "      <td>0.0259</td>\n",
       "      <td>0.0232</td>\n",
       "      <td>0.0123</td>\n",
       "    </tr>\n",
       "    <tr>\n",
       "      <th>min</th>\n",
       "      <td>0.0030</td>\n",
       "      <td>-0.0148</td>\n",
       "      <td>-0.0114</td>\n",
       "      <td>-0.0090</td>\n",
       "    </tr>\n",
       "    <tr>\n",
       "      <th>50%</th>\n",
       "      <td>0.1675</td>\n",
       "      <td>0.0113</td>\n",
       "      <td>0.0116</td>\n",
       "      <td>0.0116</td>\n",
       "    </tr>\n",
       "    <tr>\n",
       "      <th>max</th>\n",
       "      <td>0.2174</td>\n",
       "      <td>0.1398</td>\n",
       "      <td>0.1003</td>\n",
       "      <td>0.1043</td>\n",
       "    </tr>\n",
       "  </tbody>\n",
       "</table>\n",
       "</div>"
      ]
     },
     "metadata": {},
     "execution_count": 104
    }
   ],
   "metadata": {}
  },
  {
   "cell_type": "code",
   "execution_count": 111,
   "source": [
    "ari1 = ari.iloc[:,0].to_numpy()\n",
    "ari2 = ari.iloc[:,1].to_numpy()\n",
    "ari3 = ari.iloc[:,2].to_numpy()\n",
    "ari4 = ari.iloc[:,3].to_numpy()\n",
    "friedmanchisquare(ari1, ari2, ari3, ari4)"
   ],
   "outputs": [
    {
     "output_type": "execute_result",
     "data": {
      "text/plain": [
       "FriedmanchisquareResult(statistic=181.24044265593562, pvalue=4.759729338719181e-39)"
      ]
     },
     "metadata": {},
     "execution_count": 111
    }
   ],
   "metadata": {}
  },
  {
   "cell_type": "code",
   "execution_count": 119,
   "source": [
    "posthoc_nemenyi_friedman(ari)"
   ],
   "outputs": [
    {
     "output_type": "execute_result",
     "data": {
      "text/plain": [
       "            m = 1.0001   m = 1.1   m = 1.6   m = 2.0\n",
       "m = 1.0001       1.000  0.001000  0.001000  0.001000\n",
       "m = 1.1          0.001  1.000000  0.839364  0.125527\n",
       "m = 1.6          0.001  0.839364  1.000000  0.501181\n",
       "m = 2.0          0.001  0.125527  0.501181  1.000000"
      ],
      "text/html": [
       "<div>\n",
       "<style scoped>\n",
       "    .dataframe tbody tr th:only-of-type {\n",
       "        vertical-align: middle;\n",
       "    }\n",
       "\n",
       "    .dataframe tbody tr th {\n",
       "        vertical-align: top;\n",
       "    }\n",
       "\n",
       "    .dataframe thead th {\n",
       "        text-align: right;\n",
       "    }\n",
       "</style>\n",
       "<table border=\"1\" class=\"dataframe\">\n",
       "  <thead>\n",
       "    <tr style=\"text-align: right;\">\n",
       "      <th></th>\n",
       "      <th>m = 1.0001</th>\n",
       "      <th>m = 1.1</th>\n",
       "      <th>m = 1.6</th>\n",
       "      <th>m = 2.0</th>\n",
       "    </tr>\n",
       "  </thead>\n",
       "  <tbody>\n",
       "    <tr>\n",
       "      <th>m = 1.0001</th>\n",
       "      <td>1.000</td>\n",
       "      <td>0.001000</td>\n",
       "      <td>0.001000</td>\n",
       "      <td>0.001000</td>\n",
       "    </tr>\n",
       "    <tr>\n",
       "      <th>m = 1.1</th>\n",
       "      <td>0.001</td>\n",
       "      <td>1.000000</td>\n",
       "      <td>0.839364</td>\n",
       "      <td>0.125527</td>\n",
       "    </tr>\n",
       "    <tr>\n",
       "      <th>m = 1.6</th>\n",
       "      <td>0.001</td>\n",
       "      <td>0.839364</td>\n",
       "      <td>1.000000</td>\n",
       "      <td>0.501181</td>\n",
       "    </tr>\n",
       "    <tr>\n",
       "      <th>m = 2.0</th>\n",
       "      <td>0.001</td>\n",
       "      <td>0.125527</td>\n",
       "      <td>0.501181</td>\n",
       "      <td>1.000000</td>\n",
       "    </tr>\n",
       "  </tbody>\n",
       "</table>\n",
       "</div>"
      ]
     },
     "metadata": {},
     "execution_count": 119
    }
   ],
   "metadata": {}
  },
  {
   "cell_type": "markdown",
   "source": [
    "#### F-measure"
   ],
   "metadata": {}
  },
  {
   "cell_type": "code",
   "execution_count": 105,
   "source": [
    "round(fm.describe(percentiles=[0.5]),4)"
   ],
   "outputs": [
    {
     "output_type": "execute_result",
     "data": {
      "text/plain": [
       "       m = 1.0001   m = 1.1   m = 1.6   m = 2.0\n",
       "count    100.0000  100.0000  100.0000  100.0000\n",
       "mean       0.4546    0.3691    0.3662    0.3646\n",
       "std        0.0204    0.0201    0.0117    0.0086\n",
       "min        0.3545    0.3376    0.3471    0.3466\n",
       "50%        0.4551    0.3638    0.3640    0.3640\n",
       "max        0.5134    0.4606    0.4088    0.4214"
      ],
      "text/html": [
       "<div>\n",
       "<style scoped>\n",
       "    .dataframe tbody tr th:only-of-type {\n",
       "        vertical-align: middle;\n",
       "    }\n",
       "\n",
       "    .dataframe tbody tr th {\n",
       "        vertical-align: top;\n",
       "    }\n",
       "\n",
       "    .dataframe thead th {\n",
       "        text-align: right;\n",
       "    }\n",
       "</style>\n",
       "<table border=\"1\" class=\"dataframe\">\n",
       "  <thead>\n",
       "    <tr style=\"text-align: right;\">\n",
       "      <th></th>\n",
       "      <th>m = 1.0001</th>\n",
       "      <th>m = 1.1</th>\n",
       "      <th>m = 1.6</th>\n",
       "      <th>m = 2.0</th>\n",
       "    </tr>\n",
       "  </thead>\n",
       "  <tbody>\n",
       "    <tr>\n",
       "      <th>count</th>\n",
       "      <td>100.0000</td>\n",
       "      <td>100.0000</td>\n",
       "      <td>100.0000</td>\n",
       "      <td>100.0000</td>\n",
       "    </tr>\n",
       "    <tr>\n",
       "      <th>mean</th>\n",
       "      <td>0.4546</td>\n",
       "      <td>0.3691</td>\n",
       "      <td>0.3662</td>\n",
       "      <td>0.3646</td>\n",
       "    </tr>\n",
       "    <tr>\n",
       "      <th>std</th>\n",
       "      <td>0.0204</td>\n",
       "      <td>0.0201</td>\n",
       "      <td>0.0117</td>\n",
       "      <td>0.0086</td>\n",
       "    </tr>\n",
       "    <tr>\n",
       "      <th>min</th>\n",
       "      <td>0.3545</td>\n",
       "      <td>0.3376</td>\n",
       "      <td>0.3471</td>\n",
       "      <td>0.3466</td>\n",
       "    </tr>\n",
       "    <tr>\n",
       "      <th>50%</th>\n",
       "      <td>0.4551</td>\n",
       "      <td>0.3638</td>\n",
       "      <td>0.3640</td>\n",
       "      <td>0.3640</td>\n",
       "    </tr>\n",
       "    <tr>\n",
       "      <th>max</th>\n",
       "      <td>0.5134</td>\n",
       "      <td>0.4606</td>\n",
       "      <td>0.4088</td>\n",
       "      <td>0.4214</td>\n",
       "    </tr>\n",
       "  </tbody>\n",
       "</table>\n",
       "</div>"
      ]
     },
     "metadata": {},
     "execution_count": 105
    }
   ],
   "metadata": {}
  },
  {
   "cell_type": "code",
   "execution_count": 113,
   "source": [
    "fm1 = fm.iloc[:,0].to_numpy()\n",
    "fm2 = fm.iloc[:,1].to_numpy()\n",
    "fm3 = fm.iloc[:,2].to_numpy()\n",
    "fm4 = fm.iloc[:,3].to_numpy()\n",
    "friedmanchisquare(fm1, fm2, fm3, fm4)"
   ],
   "outputs": [
    {
     "output_type": "execute_result",
     "data": {
      "text/plain": [
       "FriedmanchisquareResult(statistic=172.9587525150906, pvalue=2.9233780097175817e-37)"
      ]
     },
     "metadata": {},
     "execution_count": 113
    }
   ],
   "metadata": {}
  },
  {
   "cell_type": "code",
   "execution_count": 120,
   "source": [
    "posthoc_nemenyi_friedman(fm)"
   ],
   "outputs": [
    {
     "output_type": "execute_result",
     "data": {
      "text/plain": [
       "            m = 1.0001  m = 1.1   m = 1.6   m = 2.0\n",
       "m = 1.0001       1.000    0.001  0.001000  0.001000\n",
       "m = 1.1          0.001    1.000  0.900000  0.900000\n",
       "m = 1.6          0.001    0.900  1.000000  0.624158\n",
       "m = 2.0          0.001    0.900  0.624158  1.000000"
      ],
      "text/html": [
       "<div>\n",
       "<style scoped>\n",
       "    .dataframe tbody tr th:only-of-type {\n",
       "        vertical-align: middle;\n",
       "    }\n",
       "\n",
       "    .dataframe tbody tr th {\n",
       "        vertical-align: top;\n",
       "    }\n",
       "\n",
       "    .dataframe thead th {\n",
       "        text-align: right;\n",
       "    }\n",
       "</style>\n",
       "<table border=\"1\" class=\"dataframe\">\n",
       "  <thead>\n",
       "    <tr style=\"text-align: right;\">\n",
       "      <th></th>\n",
       "      <th>m = 1.0001</th>\n",
       "      <th>m = 1.1</th>\n",
       "      <th>m = 1.6</th>\n",
       "      <th>m = 2.0</th>\n",
       "    </tr>\n",
       "  </thead>\n",
       "  <tbody>\n",
       "    <tr>\n",
       "      <th>m = 1.0001</th>\n",
       "      <td>1.000</td>\n",
       "      <td>0.001</td>\n",
       "      <td>0.001000</td>\n",
       "      <td>0.001000</td>\n",
       "    </tr>\n",
       "    <tr>\n",
       "      <th>m = 1.1</th>\n",
       "      <td>0.001</td>\n",
       "      <td>1.000</td>\n",
       "      <td>0.900000</td>\n",
       "      <td>0.900000</td>\n",
       "    </tr>\n",
       "    <tr>\n",
       "      <th>m = 1.6</th>\n",
       "      <td>0.001</td>\n",
       "      <td>0.900</td>\n",
       "      <td>1.000000</td>\n",
       "      <td>0.624158</td>\n",
       "    </tr>\n",
       "    <tr>\n",
       "      <th>m = 2.0</th>\n",
       "      <td>0.001</td>\n",
       "      <td>0.900</td>\n",
       "      <td>0.624158</td>\n",
       "      <td>1.000000</td>\n",
       "    </tr>\n",
       "  </tbody>\n",
       "</table>\n",
       "</div>"
      ]
     },
     "metadata": {},
     "execution_count": 120
    }
   ],
   "metadata": {}
  },
  {
   "cell_type": "markdown",
   "source": [
    "#### Classification Error Rate"
   ],
   "metadata": {}
  },
  {
   "cell_type": "code",
   "execution_count": 23,
   "source": [
    "round(cer.describe(percentiles=[0.5]),4)"
   ],
   "outputs": [
    {
     "output_type": "execute_result",
     "data": {
      "text/plain": [
       "       m = 1.0001   m = 1.1   m = 1.6   m = 2.0\n",
       "count    100.0000  100.0000  100.0000  100.0000\n",
       "mean       0.4635    0.6659    0.6749    0.6785\n",
       "std        0.0237    0.0255    0.0125    0.0087\n",
       "min        0.4441    0.5627    0.6287    0.6247\n",
       "50%        0.4613    0.6779    0.6799    0.6806\n",
       "max        0.6873    0.6853    0.6867    0.6873"
      ],
      "text/html": [
       "<div>\n",
       "<style scoped>\n",
       "    .dataframe tbody tr th:only-of-type {\n",
       "        vertical-align: middle;\n",
       "    }\n",
       "\n",
       "    .dataframe tbody tr th {\n",
       "        vertical-align: top;\n",
       "    }\n",
       "\n",
       "    .dataframe thead th {\n",
       "        text-align: right;\n",
       "    }\n",
       "</style>\n",
       "<table border=\"1\" class=\"dataframe\">\n",
       "  <thead>\n",
       "    <tr style=\"text-align: right;\">\n",
       "      <th></th>\n",
       "      <th>m = 1.0001</th>\n",
       "      <th>m = 1.1</th>\n",
       "      <th>m = 1.6</th>\n",
       "      <th>m = 2.0</th>\n",
       "    </tr>\n",
       "  </thead>\n",
       "  <tbody>\n",
       "    <tr>\n",
       "      <th>count</th>\n",
       "      <td>100.0000</td>\n",
       "      <td>100.0000</td>\n",
       "      <td>100.0000</td>\n",
       "      <td>100.0000</td>\n",
       "    </tr>\n",
       "    <tr>\n",
       "      <th>mean</th>\n",
       "      <td>0.4635</td>\n",
       "      <td>0.6659</td>\n",
       "      <td>0.6749</td>\n",
       "      <td>0.6785</td>\n",
       "    </tr>\n",
       "    <tr>\n",
       "      <th>std</th>\n",
       "      <td>0.0237</td>\n",
       "      <td>0.0255</td>\n",
       "      <td>0.0125</td>\n",
       "      <td>0.0087</td>\n",
       "    </tr>\n",
       "    <tr>\n",
       "      <th>min</th>\n",
       "      <td>0.4441</td>\n",
       "      <td>0.5627</td>\n",
       "      <td>0.6287</td>\n",
       "      <td>0.6247</td>\n",
       "    </tr>\n",
       "    <tr>\n",
       "      <th>50%</th>\n",
       "      <td>0.4613</td>\n",
       "      <td>0.6779</td>\n",
       "      <td>0.6799</td>\n",
       "      <td>0.6806</td>\n",
       "    </tr>\n",
       "    <tr>\n",
       "      <th>max</th>\n",
       "      <td>0.6873</td>\n",
       "      <td>0.6853</td>\n",
       "      <td>0.6867</td>\n",
       "      <td>0.6873</td>\n",
       "    </tr>\n",
       "  </tbody>\n",
       "</table>\n",
       "</div>"
      ]
     },
     "metadata": {},
     "execution_count": 23
    }
   ],
   "metadata": {}
  },
  {
   "cell_type": "code",
   "execution_count": 24,
   "source": [
    "cer1 = cer.iloc[:,0].to_numpy()\n",
    "cer2 = cer.iloc[:,1].to_numpy()\n",
    "cer3 = cer.iloc[:,2].to_numpy()\n",
    "cer4 = cer.iloc[:,3].to_numpy()\n",
    "\n",
    "friedmanchisquare(cer1, cer2, cer3, cer4)"
   ],
   "outputs": [
    {
     "output_type": "execute_result",
     "data": {
      "text/plain": [
       "FriedmanchisquareResult(statistic=199.80873180873195, pvalue=4.639700289670436e-43)"
      ]
     },
     "metadata": {},
     "execution_count": 24
    }
   ],
   "metadata": {}
  },
  {
   "cell_type": "code",
   "execution_count": 25,
   "source": [
    "posthoc_nemenyi_friedman(cer)"
   ],
   "outputs": [
    {
     "output_type": "execute_result",
     "data": {
      "text/plain": [
       "            m = 1.0001   m = 1.1   m = 1.6   m = 2.0\n",
       "m = 1.0001       1.000  0.001000  0.001000  0.001000\n",
       "m = 1.1          0.001  1.000000  0.244488  0.001000\n",
       "m = 1.6          0.001  0.244488  1.000000  0.056977\n",
       "m = 2.0          0.001  0.001000  0.056977  1.000000"
      ],
      "text/html": [
       "<div>\n",
       "<style scoped>\n",
       "    .dataframe tbody tr th:only-of-type {\n",
       "        vertical-align: middle;\n",
       "    }\n",
       "\n",
       "    .dataframe tbody tr th {\n",
       "        vertical-align: top;\n",
       "    }\n",
       "\n",
       "    .dataframe thead th {\n",
       "        text-align: right;\n",
       "    }\n",
       "</style>\n",
       "<table border=\"1\" class=\"dataframe\">\n",
       "  <thead>\n",
       "    <tr style=\"text-align: right;\">\n",
       "      <th></th>\n",
       "      <th>m = 1.0001</th>\n",
       "      <th>m = 1.1</th>\n",
       "      <th>m = 1.6</th>\n",
       "      <th>m = 2.0</th>\n",
       "    </tr>\n",
       "  </thead>\n",
       "  <tbody>\n",
       "    <tr>\n",
       "      <th>m = 1.0001</th>\n",
       "      <td>1.000</td>\n",
       "      <td>0.001000</td>\n",
       "      <td>0.001000</td>\n",
       "      <td>0.001000</td>\n",
       "    </tr>\n",
       "    <tr>\n",
       "      <th>m = 1.1</th>\n",
       "      <td>0.001</td>\n",
       "      <td>1.000000</td>\n",
       "      <td>0.244488</td>\n",
       "      <td>0.001000</td>\n",
       "    </tr>\n",
       "    <tr>\n",
       "      <th>m = 1.6</th>\n",
       "      <td>0.001</td>\n",
       "      <td>0.244488</td>\n",
       "      <td>1.000000</td>\n",
       "      <td>0.056977</td>\n",
       "    </tr>\n",
       "    <tr>\n",
       "      <th>m = 2.0</th>\n",
       "      <td>0.001</td>\n",
       "      <td>0.001000</td>\n",
       "      <td>0.056977</td>\n",
       "      <td>1.000000</td>\n",
       "    </tr>\n",
       "  </tbody>\n",
       "</table>\n",
       "</div>"
      ]
     },
     "metadata": {},
     "execution_count": 25
    }
   ],
   "metadata": {}
  }
 ],
 "metadata": {
  "interpreter": {
   "hash": "1da6a8dfc8c56b579fdb21b6b1376bcbac030b43636cd144da53fad009953fa2"
  },
  "kernelspec": {
   "name": "python3",
   "display_name": "Python 3.8.8 64-bit ('base': conda)"
  },
  "language_info": {
   "codemirror_mode": {
    "name": "ipython",
    "version": 3
   },
   "file_extension": ".py",
   "mimetype": "text/x-python",
   "name": "python",
   "nbconvert_exporter": "python",
   "pygments_lexer": "ipython3",
   "version": "3.8.8"
  }
 },
 "nbformat": 4,
 "nbformat_minor": 4
}